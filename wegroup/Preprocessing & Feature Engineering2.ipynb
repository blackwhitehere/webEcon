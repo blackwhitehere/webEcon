{
 "cells": [
  {
   "cell_type": "markdown",
   "metadata": {},
   "source": [
    "# 0. Attention\n",
    "1. use the dataset after section 1.6 for preiction, the dataset name is train4\n",
    "2. train5 dataset is another feature selection based on chi2 method, use train5 if train4 doesn't have a good performance\n",
    "3. section 1.7 is feature selection after implementing xgboost model, it's a post-choosing method, try using it after our implementation.\n"
   ]
  },
  {
   "cell_type": "code",
   "execution_count": 1,
   "metadata": {
    "collapsed": false
   },
   "outputs": [
    {
     "name": "stderr",
     "output_type": "stream",
     "text": [
      "/Users/Kelly/anaconda/lib/python3.4/site-packages/IPython/html.py:14: ShimWarning: The `IPython.html` package has been deprecated. You should import from `notebook` instead. `IPython.html.widgets` has moved to `ipywidgets`.\n",
      "  \"`IPython.html.widgets` has moved to `ipywidgets`.\", ShimWarning)\n"
     ]
    }
   ],
   "source": [
    "import matplotlib.pyplot as plt\n",
    "%matplotlib inline\n",
    "import pandas as pd\n",
    "import numpy as np\n",
    "import seaborn as sns\n",
    "from sklearn import preprocessing\n",
    "from sklearn.manifold import TSNE\n",
    "from sklearn import cross_validation\n",
    "from sklearn.ensemble import RandomForestClassifier\n",
    "import xgboost as xgb"
   ]
  },
  {
   "cell_type": "code",
   "execution_count": 2,
   "metadata": {
    "collapsed": false
   },
   "outputs": [],
   "source": [
    "import utility as u\n",
    "\n",
    "train_file = \"data_train.txt\"\n",
    "test_file = \"shuffle_data_test.txt\"\n",
    "data_folder = 'data'\n",
    "columns = ['click', 'weekday', 'hour', 'timestamp', 'log_type', 'user_id', 'user_agent', 'ip', 'region', 'city',\n",
    "           'ad_exchange', 'domain', 'url', 'anon_url_id', 'ad_slot_id', 'width', 'height', 'visibility', 'format',\n",
    "           'price', 'creative_id', 'key_page_url', 'advertiser_id', 'user_tags']\n",
    "\n",
    "train, test = u.import_tr_te(train_file, test_file, columns, data_folder)"
   ]
  },
  {
   "cell_type": "code",
   "execution_count": 3,
   "metadata": {
    "collapsed": false
   },
   "outputs": [
    {
     "data": {
      "text/html": [
       "<div>\n",
       "<table border=\"1\" class=\"dataframe\">\n",
       "  <thead>\n",
       "    <tr style=\"text-align: right;\">\n",
       "      <th></th>\n",
       "      <th>click</th>\n",
       "      <th>weekday</th>\n",
       "      <th>hour</th>\n",
       "      <th>timestamp</th>\n",
       "      <th>log_type</th>\n",
       "      <th>user_id</th>\n",
       "      <th>user_agent</th>\n",
       "      <th>ip</th>\n",
       "      <th>region</th>\n",
       "      <th>city</th>\n",
       "      <th>...</th>\n",
       "      <th>ad_slot_id</th>\n",
       "      <th>width</th>\n",
       "      <th>height</th>\n",
       "      <th>visibility</th>\n",
       "      <th>format</th>\n",
       "      <th>price</th>\n",
       "      <th>creative_id</th>\n",
       "      <th>key_page_url</th>\n",
       "      <th>advertiser_id</th>\n",
       "      <th>user_tags</th>\n",
       "    </tr>\n",
       "  </thead>\n",
       "  <tbody>\n",
       "    <tr>\n",
       "      <th>0</th>\n",
       "      <td>0</td>\n",
       "      <td>6</td>\n",
       "      <td>0</td>\n",
       "      <td>20130606000104308</td>\n",
       "      <td>1</td>\n",
       "      <td>VhT3La5uDlaywOj</td>\n",
       "      <td>windows_chrome</td>\n",
       "      <td>122.233.40.*</td>\n",
       "      <td>94</td>\n",
       "      <td>95</td>\n",
       "      <td>...</td>\n",
       "      <td>mm_10058411_2865562_9929053</td>\n",
       "      <td>300</td>\n",
       "      <td>250</td>\n",
       "      <td>2</td>\n",
       "      <td>1</td>\n",
       "      <td>0</td>\n",
       "      <td>44966cc8da1ed40c95d59e863c8c75f0</td>\n",
       "      <td>361e128affece850342293213691a043</td>\n",
       "      <td>3386</td>\n",
       "      <td>10057,10063,10024,13800,13866,10110</td>\n",
       "    </tr>\n",
       "    <tr>\n",
       "      <th>1</th>\n",
       "      <td>0</td>\n",
       "      <td>6</td>\n",
       "      <td>0</td>\n",
       "      <td>20130606000104371</td>\n",
       "      <td>1</td>\n",
       "      <td>Vhk0Z35ULqFcBZc</td>\n",
       "      <td>windows_ie</td>\n",
       "      <td>180.107.223.*</td>\n",
       "      <td>80</td>\n",
       "      <td>85</td>\n",
       "      <td>...</td>\n",
       "      <td>4017603800</td>\n",
       "      <td>336</td>\n",
       "      <td>280</td>\n",
       "      <td>2</td>\n",
       "      <td>0</td>\n",
       "      <td>5</td>\n",
       "      <td>ff5123fb9333ca095034c62fdaaf51aa</td>\n",
       "      <td>361e128affece850342293213691a043</td>\n",
       "      <td>3386</td>\n",
       "      <td>10063,10059,13776,10111</td>\n",
       "    </tr>\n",
       "    <tr>\n",
       "      <th>2</th>\n",
       "      <td>0</td>\n",
       "      <td>6</td>\n",
       "      <td>0</td>\n",
       "      <td>20130606000104420</td>\n",
       "      <td>1</td>\n",
       "      <td>Vhk7ZAnxPcKOjCb</td>\n",
       "      <td>windows_ie</td>\n",
       "      <td>111.120.123.*</td>\n",
       "      <td>298</td>\n",
       "      <td>299</td>\n",
       "      <td>...</td>\n",
       "      <td>2141208056</td>\n",
       "      <td>250</td>\n",
       "      <td>250</td>\n",
       "      <td>2</td>\n",
       "      <td>0</td>\n",
       "      <td>5</td>\n",
       "      <td>7097e4210dea4d69f07f0f5e4343529c</td>\n",
       "      <td>361e128affece850342293213691a043</td>\n",
       "      <td>3386</td>\n",
       "      <td>10063,10111</td>\n",
       "    </tr>\n",
       "    <tr>\n",
       "      <th>3</th>\n",
       "      <td>0</td>\n",
       "      <td>6</td>\n",
       "      <td>0</td>\n",
       "      <td>20130606000104436</td>\n",
       "      <td>1</td>\n",
       "      <td>VhkY1nFEPlkyeIC</td>\n",
       "      <td>windows_ie</td>\n",
       "      <td>112.95.93.*</td>\n",
       "      <td>216</td>\n",
       "      <td>219</td>\n",
       "      <td>...</td>\n",
       "      <td>415540879</td>\n",
       "      <td>250</td>\n",
       "      <td>250</td>\n",
       "      <td>2</td>\n",
       "      <td>0</td>\n",
       "      <td>5</td>\n",
       "      <td>7097e4210dea4d69f07f0f5e4343529c</td>\n",
       "      <td>361e128affece850342293213691a043</td>\n",
       "      <td>3386</td>\n",
       "      <td>10048</td>\n",
       "    </tr>\n",
       "    <tr>\n",
       "      <th>4</th>\n",
       "      <td>0</td>\n",
       "      <td>6</td>\n",
       "      <td>0</td>\n",
       "      <td>20130606000104450</td>\n",
       "      <td>1</td>\n",
       "      <td>VhLrOxuUPqd63CL</td>\n",
       "      <td>windows_chrome</td>\n",
       "      <td>113.200.249.*</td>\n",
       "      <td>333</td>\n",
       "      <td>334</td>\n",
       "      <td>...</td>\n",
       "      <td>2811067692</td>\n",
       "      <td>250</td>\n",
       "      <td>250</td>\n",
       "      <td>2</td>\n",
       "      <td>0</td>\n",
       "      <td>5</td>\n",
       "      <td>7097e4210dea4d69f07f0f5e4343529c</td>\n",
       "      <td>361e128affece850342293213691a043</td>\n",
       "      <td>3386</td>\n",
       "      <td>10006,10057,14273</td>\n",
       "    </tr>\n",
       "  </tbody>\n",
       "</table>\n",
       "<p>5 rows × 24 columns</p>\n",
       "</div>"
      ],
      "text/plain": [
       "   click  weekday  hour          timestamp  log_type          user_id  \\\n",
       "0      0        6     0  20130606000104308         1  VhT3La5uDlaywOj   \n",
       "1      0        6     0  20130606000104371         1  Vhk0Z35ULqFcBZc   \n",
       "2      0        6     0  20130606000104420         1  Vhk7ZAnxPcKOjCb   \n",
       "3      0        6     0  20130606000104436         1  VhkY1nFEPlkyeIC   \n",
       "4      0        6     0  20130606000104450         1  VhLrOxuUPqd63CL   \n",
       "\n",
       "       user_agent             ip  region  city  \\\n",
       "0  windows_chrome   122.233.40.*      94    95   \n",
       "1      windows_ie  180.107.223.*      80    85   \n",
       "2      windows_ie  111.120.123.*     298   299   \n",
       "3      windows_ie    112.95.93.*     216   219   \n",
       "4  windows_chrome  113.200.249.*     333   334   \n",
       "\n",
       "                  ...                                    ad_slot_id width  \\\n",
       "0                 ...                   mm_10058411_2865562_9929053   300   \n",
       "1                 ...                                    4017603800   336   \n",
       "2                 ...                                    2141208056   250   \n",
       "3                 ...                                     415540879   250   \n",
       "4                 ...                                    2811067692   250   \n",
       "\n",
       "  height visibility format  price                       creative_id  \\\n",
       "0    250          2      1      0  44966cc8da1ed40c95d59e863c8c75f0   \n",
       "1    280          2      0      5  ff5123fb9333ca095034c62fdaaf51aa   \n",
       "2    250          2      0      5  7097e4210dea4d69f07f0f5e4343529c   \n",
       "3    250          2      0      5  7097e4210dea4d69f07f0f5e4343529c   \n",
       "4    250          2      0      5  7097e4210dea4d69f07f0f5e4343529c   \n",
       "\n",
       "                       key_page_url  advertiser_id  \\\n",
       "0  361e128affece850342293213691a043           3386   \n",
       "1  361e128affece850342293213691a043           3386   \n",
       "2  361e128affece850342293213691a043           3386   \n",
       "3  361e128affece850342293213691a043           3386   \n",
       "4  361e128affece850342293213691a043           3386   \n",
       "\n",
       "                             user_tags  \n",
       "0  10057,10063,10024,13800,13866,10110  \n",
       "1              10063,10059,13776,10111  \n",
       "2                          10063,10111  \n",
       "3                                10048  \n",
       "4                    10006,10057,14273  \n",
       "\n",
       "[5 rows x 24 columns]"
      ]
     },
     "execution_count": 3,
     "metadata": {},
     "output_type": "execute_result"
    }
   ],
   "source": [
    "train.head()"
   ]
  },
  {
   "cell_type": "code",
   "execution_count": 11,
   "metadata": {
    "collapsed": false
   },
   "outputs": [
    {
     "data": {
      "text/plain": [
       "<matplotlib.text.Text at 0x132179940>"
      ]
     },
     "execution_count": 11,
     "metadata": {},
     "output_type": "execute_result"
    },
    {
     "data": {
      "image/png": "[encoded data removed]",
      "text/plain": [
       "<matplotlib.figure.Figure at 0x13e5559e8>"
      ]
     },
     "metadata": {},
     "output_type": "display_data"
    }
   ],
   "source": [
    "plt.subplot(121)            \n",
    "train['hour'].plot(kind='hist',bins=24,figsize=(10,5))\n",
    "plt.title('hours')\n",
    "plt.subplot(122)             \n",
    "train['weekday'].plot(kind='hist',bins=7)\n",
    "plt.title('weekdays')\n"
   ]
  },
  {
   "cell_type": "code",
   "execution_count": 31,
   "metadata": {
    "collapsed": false
   },
   "outputs": [
    {
     "data": {
      "text/plain": [
       "<matplotlib.text.Text at 0x11c3f6748>"
      ]
     },
     "execution_count": 31,
     "metadata": {},
     "output_type": "execute_result"
    },
    {
     "data": {
      "image/png": "[encoded data removed]",
      "text/plain": [
       "<matplotlib.figure.Figure at 0x11c3afa90>"
      ]
     },
     "metadata": {},
     "output_type": "display_data"
    }
   ],
   "source": [
    "train.user_agent.value_counts().plot(kind='barh')\n",
    "#plt.axis('equal')\n",
    "plt.title('user_agent')"
   ]
  },
  {
   "cell_type": "code",
   "execution_count": 56,
   "metadata": {
    "collapsed": false,
    "scrolled": true
   },
   "outputs": [
    {
     "data": {
      "text/plain": [
       "<matplotlib.text.Text at 0x11a902978>"
      ]
     },
     "execution_count": 56,
     "metadata": {},
     "output_type": "execute_result"
    },
    {
     "data": {
      "image/png": "[encoded data removed]",
      "text/plain": [
       "<matplotlib.figure.Figure at 0x11b54f128>"
      ]
     },
     "metadata": {},
     "output_type": "display_data"
    }
   ],
   "source": [
    "train['price'].hist(alpha=0.5)\n",
    "plt.title('Ad slot floor price (RMB/CPM)')\n"
   ]
  },
  {
   "cell_type": "code",
   "execution_count": 50,
   "metadata": {
    "collapsed": false,
    "scrolled": true
   },
   "outputs": [
    {
     "data": {
      "text/plain": [
       "<matplotlib.text.Text at 0x11f4b1240>"
      ]
     },
     "execution_count": 50,
     "metadata": {},
     "output_type": "execute_result"
    },
    {
     "data": {
      "image/png": "[encoded data removed]",
      "text/plain": [
       "<matplotlib.figure.Figure at 0x11f303e48>"
      ]
     },
     "metadata": {},
     "output_type": "display_data"
    }
   ],
   "source": [
    "idx = [6,19]\n",
    "df = train.iloc[:,idx]\n",
    "x = df.groupby(['user_agent']).mean()\n",
    "x.sort(columns='price').plot(kind='barh')\n",
    "plt.title('mean Ad slot price')"
   ]
  },
  {
   "cell_type": "markdown",
   "metadata": {},
   "source": [
    "## 1. Feature Engineering"
   ]
  },
  {
   "cell_type": "markdown",
   "metadata": {},
   "source": [
    "### 1.1. Delete obvious meanningless factors\n",
    "* user_id obviously meanningless\n",
    "* ip is closely tied to user_id, still meanningless\n",
    "* each customer has a unique timestamp, so the variation of this feature would be extremely large, which still meanningless for our prediction"
   ]
  },
  {
   "cell_type": "code",
   "execution_count": 4,
   "metadata": {
    "collapsed": false
   },
   "outputs": [],
   "source": [
    "train1 = train.drop(['user_id','ip','timestamp'],axis =1)\n",
    "test1 = test.drop(['user_id','ip','timestamp'],axis =1)"
   ]
  },
  {
   "cell_type": "markdown",
   "metadata": {},
   "source": [
    "### 1.2. Delete high-variation factors\n",
    "since high-variation factors can not help to cluster our data set so as to make predictions, so it's better to delete highly varied factors\n",
    "'url' varies a lot ,so we choose to delete them "
   ]
  },
  {
   "cell_type": "code",
   "execution_count": 5,
   "metadata": {
    "collapsed": true
   },
   "outputs": [],
   "source": [
    "train2 = train1.drop('url',axis =1)\n",
    "test2 = test1.drop('url',axis =1)"
   ]
  },
  {
   "cell_type": "markdown",
   "metadata": {},
   "source": [
    "### 1.3. Delete zero-variation factors\n",
    "Based on the principal component analysis (PCA), it is important that features have maximum variance for maximum uniqueness, so that each feature is as distant as possible (as orthogonal as possible) from the other features.\n",
    "obviously, the 'log_type', 'advertiser_id' and 'anon_url_id' have zero standard deviations, which means these two factors don't have impact on our predictive process."
   ]
  },
  {
   "cell_type": "code",
   "execution_count": 6,
   "metadata": {
    "collapsed": false
   },
   "outputs": [
    {
     "data": {
      "text/html": [
       "<div>\n",
       "<table border=\"1\" class=\"dataframe\">\n",
       "  <thead>\n",
       "    <tr style=\"text-align: right;\">\n",
       "      <th></th>\n",
       "      <th>click</th>\n",
       "      <th>weekday</th>\n",
       "      <th>hour</th>\n",
       "      <th>timestamp</th>\n",
       "      <th>log_type</th>\n",
       "      <th>region</th>\n",
       "      <th>city</th>\n",
       "      <th>ad_exchange</th>\n",
       "      <th>width</th>\n",
       "      <th>height</th>\n",
       "      <th>visibility</th>\n",
       "      <th>format</th>\n",
       "      <th>price</th>\n",
       "      <th>advertiser_id</th>\n",
       "    </tr>\n",
       "  </thead>\n",
       "  <tbody>\n",
       "    <tr>\n",
       "      <th>count</th>\n",
       "      <td>2847802.000000</td>\n",
       "      <td>2847802.000000</td>\n",
       "      <td>2847802.000000</td>\n",
       "      <td>2.847802e+06</td>\n",
       "      <td>2847802</td>\n",
       "      <td>2847802.000000</td>\n",
       "      <td>2847802.000000</td>\n",
       "      <td>2847802.000000</td>\n",
       "      <td>2847802.000000</td>\n",
       "      <td>2847802.000000</td>\n",
       "      <td>2847802.000000</td>\n",
       "      <td>2847802.000000</td>\n",
       "      <td>2847802.000000</td>\n",
       "      <td>2847802</td>\n",
       "    </tr>\n",
       "    <tr>\n",
       "      <th>mean</th>\n",
       "      <td>0.000729</td>\n",
       "      <td>3.005293</td>\n",
       "      <td>13.788004</td>\n",
       "      <td>2.013061e+16</td>\n",
       "      <td>1</td>\n",
       "      <td>145.166020</td>\n",
       "      <td>150.065017</td>\n",
       "      <td>2.198610</td>\n",
       "      <td>580.746215</td>\n",
       "      <td>183.571554</td>\n",
       "      <td>2.243363</td>\n",
       "      <td>0.277444</td>\n",
       "      <td>29.441337</td>\n",
       "      <td>3386</td>\n",
       "    </tr>\n",
       "    <tr>\n",
       "      <th>std</th>\n",
       "      <td>0.026990</td>\n",
       "      <td>2.037767</td>\n",
       "      <td>6.625501</td>\n",
       "      <td>2.021288e+09</td>\n",
       "      <td>0</td>\n",
       "      <td>103.819625</td>\n",
       "      <td>105.043981</td>\n",
       "      <td>0.793964</td>\n",
       "      <td>320.683441</td>\n",
       "      <td>120.106046</td>\n",
       "      <td>19.892124</td>\n",
       "      <td>0.640043</td>\n",
       "      <td>36.785039</td>\n",
       "      <td>0</td>\n",
       "    </tr>\n",
       "    <tr>\n",
       "      <th>min</th>\n",
       "      <td>0.000000</td>\n",
       "      <td>0.000000</td>\n",
       "      <td>0.000000</td>\n",
       "      <td>2.013061e+16</td>\n",
       "      <td>1</td>\n",
       "      <td>0.000000</td>\n",
       "      <td>0.000000</td>\n",
       "      <td>1.000000</td>\n",
       "      <td>120.000000</td>\n",
       "      <td>60.000000</td>\n",
       "      <td>0.000000</td>\n",
       "      <td>0.000000</td>\n",
       "      <td>0.000000</td>\n",
       "      <td>3386</td>\n",
       "    </tr>\n",
       "    <tr>\n",
       "      <th>25%</th>\n",
       "      <td>0.000000</td>\n",
       "      <td>1.000000</td>\n",
       "      <td>10.000000</td>\n",
       "      <td>2.013061e+16</td>\n",
       "      <td>1</td>\n",
       "      <td>65.000000</td>\n",
       "      <td>75.000000</td>\n",
       "      <td>2.000000</td>\n",
       "      <td>300.000000</td>\n",
       "      <td>90.000000</td>\n",
       "      <td>0.000000</td>\n",
       "      <td>0.000000</td>\n",
       "      <td>4.000000</td>\n",
       "      <td>3386</td>\n",
       "    </tr>\n",
       "    <tr>\n",
       "      <th>50%</th>\n",
       "      <td>0.000000</td>\n",
       "      <td>3.000000</td>\n",
       "      <td>15.000000</td>\n",
       "      <td>2.013061e+16</td>\n",
       "      <td>1</td>\n",
       "      <td>146.000000</td>\n",
       "      <td>146.000000</td>\n",
       "      <td>2.000000</td>\n",
       "      <td>468.000000</td>\n",
       "      <td>90.000000</td>\n",
       "      <td>0.000000</td>\n",
       "      <td>0.000000</td>\n",
       "      <td>10.000000</td>\n",
       "      <td>3386</td>\n",
       "    </tr>\n",
       "    <tr>\n",
       "      <th>75%</th>\n",
       "      <td>0.000000</td>\n",
       "      <td>5.000000</td>\n",
       "      <td>19.000000</td>\n",
       "      <td>2.013061e+16</td>\n",
       "      <td>1</td>\n",
       "      <td>216.000000</td>\n",
       "      <td>221.000000</td>\n",
       "      <td>3.000000</td>\n",
       "      <td>1000.000000</td>\n",
       "      <td>250.000000</td>\n",
       "      <td>2.000000</td>\n",
       "      <td>0.000000</td>\n",
       "      <td>50.000000</td>\n",
       "      <td>3386</td>\n",
       "    </tr>\n",
       "    <tr>\n",
       "      <th>max</th>\n",
       "      <td>1.000000</td>\n",
       "      <td>6.000000</td>\n",
       "      <td>23.000000</td>\n",
       "      <td>2.013061e+16</td>\n",
       "      <td>1</td>\n",
       "      <td>395.000000</td>\n",
       "      <td>399.000000</td>\n",
       "      <td>3.000000</td>\n",
       "      <td>1000.000000</td>\n",
       "      <td>600.000000</td>\n",
       "      <td>255.000000</td>\n",
       "      <td>5.000000</td>\n",
       "      <td>300.000000</td>\n",
       "      <td>3386</td>\n",
       "    </tr>\n",
       "  </tbody>\n",
       "</table>\n",
       "</div>"
      ],
      "text/plain": [
       "                click         weekday            hour     timestamp  log_type  \\\n",
       "count  2847802.000000  2847802.000000  2847802.000000  2.847802e+06   2847802   \n",
       "mean         0.000729        3.005293       13.788004  2.013061e+16         1   \n",
       "std          0.026990        2.037767        6.625501  2.021288e+09         0   \n",
       "min          0.000000        0.000000        0.000000  2.013061e+16         1   \n",
       "25%          0.000000        1.000000       10.000000  2.013061e+16         1   \n",
       "50%          0.000000        3.000000       15.000000  2.013061e+16         1   \n",
       "75%          0.000000        5.000000       19.000000  2.013061e+16         1   \n",
       "max          1.000000        6.000000       23.000000  2.013061e+16         1   \n",
       "\n",
       "               region            city     ad_exchange           width  \\\n",
       "count  2847802.000000  2847802.000000  2847802.000000  2847802.000000   \n",
       "mean       145.166020      150.065017        2.198610      580.746215   \n",
       "std        103.819625      105.043981        0.793964      320.683441   \n",
       "min          0.000000        0.000000        1.000000      120.000000   \n",
       "25%         65.000000       75.000000        2.000000      300.000000   \n",
       "50%        146.000000      146.000000        2.000000      468.000000   \n",
       "75%        216.000000      221.000000        3.000000     1000.000000   \n",
       "max        395.000000      399.000000        3.000000     1000.000000   \n",
       "\n",
       "               height      visibility          format           price  \\\n",
       "count  2847802.000000  2847802.000000  2847802.000000  2847802.000000   \n",
       "mean       183.571554        2.243363        0.277444       29.441337   \n",
       "std        120.106046       19.892124        0.640043       36.785039   \n",
       "min         60.000000        0.000000        0.000000        0.000000   \n",
       "25%         90.000000        0.000000        0.000000        4.000000   \n",
       "50%         90.000000        0.000000        0.000000       10.000000   \n",
       "75%        250.000000        2.000000        0.000000       50.000000   \n",
       "max        600.000000      255.000000        5.000000      300.000000   \n",
       "\n",
       "       advertiser_id  \n",
       "count        2847802  \n",
       "mean            3386  \n",
       "std                0  \n",
       "min             3386  \n",
       "25%             3386  \n",
       "50%             3386  \n",
       "75%             3386  \n",
       "max             3386  "
      ]
     },
     "execution_count": 6,
     "metadata": {},
     "output_type": "execute_result"
    }
   ],
   "source": [
    "# Delete zero-variation factors\n",
    "train.describe()"
   ]
  },
  {
   "cell_type": "code",
   "execution_count": 7,
   "metadata": {
    "collapsed": false
   },
   "outputs": [],
   "source": [
    "train3 = train2.drop(['log_type','advertiser_id','anon_url_id','user_tags'],axis =1)\n",
    "test3 = test2.drop(['log_type','advertiser_id','anon_url_id','user_tags'],axis =1)"
   ]
  },
  {
   "cell_type": "code",
   "execution_count": 8,
   "metadata": {
    "collapsed": false
   },
   "outputs": [
    {
     "data": {
      "text/html": [
       "<div>\n",
       "<table border=\"1\" class=\"dataframe\">\n",
       "  <thead>\n",
       "    <tr style=\"text-align: right;\">\n",
       "      <th></th>\n",
       "      <th>click</th>\n",
       "      <th>weekday</th>\n",
       "      <th>hour</th>\n",
       "      <th>user_agent</th>\n",
       "      <th>region</th>\n",
       "      <th>city</th>\n",
       "      <th>ad_exchange</th>\n",
       "      <th>domain</th>\n",
       "      <th>ad_slot_id</th>\n",
       "      <th>width</th>\n",
       "      <th>height</th>\n",
       "      <th>visibility</th>\n",
       "      <th>format</th>\n",
       "      <th>price</th>\n",
       "      <th>creative_id</th>\n",
       "      <th>key_page_url</th>\n",
       "    </tr>\n",
       "  </thead>\n",
       "  <tbody>\n",
       "    <tr>\n",
       "      <th>0</th>\n",
       "      <td>0</td>\n",
       "      <td>6</td>\n",
       "      <td>0</td>\n",
       "      <td>windows_chrome</td>\n",
       "      <td>94</td>\n",
       "      <td>95</td>\n",
       "      <td>1</td>\n",
       "      <td>trqRTummPvas1m58uG</td>\n",
       "      <td>mm_10058411_2865562_9929053</td>\n",
       "      <td>300</td>\n",
       "      <td>250</td>\n",
       "      <td>2</td>\n",
       "      <td>1</td>\n",
       "      <td>0</td>\n",
       "      <td>44966cc8da1ed40c95d59e863c8c75f0</td>\n",
       "      <td>361e128affece850342293213691a043</td>\n",
       "    </tr>\n",
       "    <tr>\n",
       "      <th>1</th>\n",
       "      <td>0</td>\n",
       "      <td>6</td>\n",
       "      <td>0</td>\n",
       "      <td>windows_ie</td>\n",
       "      <td>80</td>\n",
       "      <td>85</td>\n",
       "      <td>2</td>\n",
       "      <td>5On-q5uvgN171m58uG</td>\n",
       "      <td>4017603800</td>\n",
       "      <td>336</td>\n",
       "      <td>280</td>\n",
       "      <td>2</td>\n",
       "      <td>0</td>\n",
       "      <td>5</td>\n",
       "      <td>ff5123fb9333ca095034c62fdaaf51aa</td>\n",
       "      <td>361e128affece850342293213691a043</td>\n",
       "    </tr>\n",
       "    <tr>\n",
       "      <th>2</th>\n",
       "      <td>0</td>\n",
       "      <td>6</td>\n",
       "      <td>0</td>\n",
       "      <td>windows_ie</td>\n",
       "      <td>298</td>\n",
       "      <td>299</td>\n",
       "      <td>2</td>\n",
       "      <td>trqRTu1yMI5o1m58uG</td>\n",
       "      <td>2141208056</td>\n",
       "      <td>250</td>\n",
       "      <td>250</td>\n",
       "      <td>2</td>\n",
       "      <td>0</td>\n",
       "      <td>5</td>\n",
       "      <td>7097e4210dea4d69f07f0f5e4343529c</td>\n",
       "      <td>361e128affece850342293213691a043</td>\n",
       "    </tr>\n",
       "    <tr>\n",
       "      <th>3</th>\n",
       "      <td>0</td>\n",
       "      <td>6</td>\n",
       "      <td>0</td>\n",
       "      <td>windows_ie</td>\n",
       "      <td>216</td>\n",
       "      <td>219</td>\n",
       "      <td>2</td>\n",
       "      <td>5KFEGK9RBTNEXMB4JKTI</td>\n",
       "      <td>415540879</td>\n",
       "      <td>250</td>\n",
       "      <td>250</td>\n",
       "      <td>2</td>\n",
       "      <td>0</td>\n",
       "      <td>5</td>\n",
       "      <td>7097e4210dea4d69f07f0f5e4343529c</td>\n",
       "      <td>361e128affece850342293213691a043</td>\n",
       "    </tr>\n",
       "    <tr>\n",
       "      <th>4</th>\n",
       "      <td>0</td>\n",
       "      <td>6</td>\n",
       "      <td>0</td>\n",
       "      <td>windows_chrome</td>\n",
       "      <td>333</td>\n",
       "      <td>334</td>\n",
       "      <td>2</td>\n",
       "      <td>trqRTu1yMI5o1m58uG</td>\n",
       "      <td>2811067692</td>\n",
       "      <td>250</td>\n",
       "      <td>250</td>\n",
       "      <td>2</td>\n",
       "      <td>0</td>\n",
       "      <td>5</td>\n",
       "      <td>7097e4210dea4d69f07f0f5e4343529c</td>\n",
       "      <td>361e128affece850342293213691a043</td>\n",
       "    </tr>\n",
       "  </tbody>\n",
       "</table>\n",
       "</div>"
      ],
      "text/plain": [
       "   click  weekday  hour      user_agent  region  city  ad_exchange  \\\n",
       "0      0        6     0  windows_chrome      94    95            1   \n",
       "1      0        6     0      windows_ie      80    85            2   \n",
       "2      0        6     0      windows_ie     298   299            2   \n",
       "3      0        6     0      windows_ie     216   219            2   \n",
       "4      0        6     0  windows_chrome     333   334            2   \n",
       "\n",
       "                 domain                   ad_slot_id  width  height  \\\n",
       "0    trqRTummPvas1m58uG  mm_10058411_2865562_9929053    300     250   \n",
       "1    5On-q5uvgN171m58uG                   4017603800    336     280   \n",
       "2    trqRTu1yMI5o1m58uG                   2141208056    250     250   \n",
       "3  5KFEGK9RBTNEXMB4JKTI                    415540879    250     250   \n",
       "4    trqRTu1yMI5o1m58uG                   2811067692    250     250   \n",
       "\n",
       "   visibility  format  price                       creative_id  \\\n",
       "0           2       1      0  44966cc8da1ed40c95d59e863c8c75f0   \n",
       "1           2       0      5  ff5123fb9333ca095034c62fdaaf51aa   \n",
       "2           2       0      5  7097e4210dea4d69f07f0f5e4343529c   \n",
       "3           2       0      5  7097e4210dea4d69f07f0f5e4343529c   \n",
       "4           2       0      5  7097e4210dea4d69f07f0f5e4343529c   \n",
       "\n",
       "                       key_page_url  \n",
       "0  361e128affece850342293213691a043  \n",
       "1  361e128affece850342293213691a043  \n",
       "2  361e128affece850342293213691a043  \n",
       "3  361e128affece850342293213691a043  \n",
       "4  361e128affece850342293213691a043  "
      ]
     },
     "execution_count": 8,
     "metadata": {},
     "output_type": "execute_result"
    }
   ],
   "source": [
    "train3.head()"
   ]
  },
  {
   "cell_type": "code",
   "execution_count": 9,
   "metadata": {
    "collapsed": false
   },
   "outputs": [
    {
     "data": {
      "text/plain": [
       "click            int64\n",
       "weekday          int64\n",
       "hour             int64\n",
       "user_agent      object\n",
       "region           int64\n",
       "city             int64\n",
       "ad_exchange      int64\n",
       "domain          object\n",
       "ad_slot_id      object\n",
       "width            int64\n",
       "height           int64\n",
       "visibility       int64\n",
       "format           int64\n",
       "price            int64\n",
       "creative_id     object\n",
       "key_page_url    object\n",
       "dtype: object"
      ]
     },
     "execution_count": 9,
     "metadata": {},
     "output_type": "execute_result"
    }
   ],
   "source": [
    "train3.dtypes"
   ]
  },
  {
   "cell_type": "markdown",
   "metadata": {},
   "source": [
    "### 1.4. Change categorical data into numerical representatives using label encoder"
   ]
  },
  {
   "cell_type": "code",
   "execution_count": 10,
   "metadata": {
    "collapsed": true
   },
   "outputs": [],
   "source": [
    "def labelencoder(train_data):\n",
    "    for f in train_data.columns:\n",
    "        if train_data[f].dtype == 'object':\n",
    "            lbl = preprocessing.LabelEncoder()\n",
    "            lbl.fit(np.unique(list(train_data[f].values)))\n",
    "            train_data[f] = lbl.transform(list(train_data[f].values))\n",
    "    return train_data"
   ]
  },
  {
   "cell_type": "code",
   "execution_count": 12,
   "metadata": {
    "collapsed": false
   },
   "outputs": [
    {
     "data": {
      "text/html": [
       "<div>\n",
       "<table border=\"1\" class=\"dataframe\">\n",
       "  <thead>\n",
       "    <tr style=\"text-align: right;\">\n",
       "      <th></th>\n",
       "      <th>click</th>\n",
       "      <th>weekday</th>\n",
       "      <th>hour</th>\n",
       "      <th>user_agent</th>\n",
       "      <th>region</th>\n",
       "      <th>city</th>\n",
       "      <th>ad_exchange</th>\n",
       "      <th>domain</th>\n",
       "      <th>ad_slot_id</th>\n",
       "      <th>width</th>\n",
       "      <th>height</th>\n",
       "      <th>visibility</th>\n",
       "      <th>format</th>\n",
       "      <th>price</th>\n",
       "      <th>creative_id</th>\n",
       "      <th>key_page_url</th>\n",
       "    </tr>\n",
       "  </thead>\n",
       "  <tbody>\n",
       "    <tr>\n",
       "      <th>0</th>\n",
       "      <td>0</td>\n",
       "      <td>6</td>\n",
       "      <td>0</td>\n",
       "      <td>27</td>\n",
       "      <td>94</td>\n",
       "      <td>95</td>\n",
       "      <td>1</td>\n",
       "      <td>12217</td>\n",
       "      <td>50902</td>\n",
       "      <td>300</td>\n",
       "      <td>250</td>\n",
       "      <td>2</td>\n",
       "      <td>1</td>\n",
       "      <td>0</td>\n",
       "      <td>2</td>\n",
       "      <td>0</td>\n",
       "    </tr>\n",
       "    <tr>\n",
       "      <th>1</th>\n",
       "      <td>0</td>\n",
       "      <td>6</td>\n",
       "      <td>0</td>\n",
       "      <td>29</td>\n",
       "      <td>80</td>\n",
       "      <td>85</td>\n",
       "      <td>2</td>\n",
       "      <td>2394</td>\n",
       "      <td>39778</td>\n",
       "      <td>336</td>\n",
       "      <td>280</td>\n",
       "      <td>2</td>\n",
       "      <td>0</td>\n",
       "      <td>5</td>\n",
       "      <td>10</td>\n",
       "      <td>0</td>\n",
       "    </tr>\n",
       "    <tr>\n",
       "      <th>2</th>\n",
       "      <td>0</td>\n",
       "      <td>6</td>\n",
       "      <td>0</td>\n",
       "      <td>29</td>\n",
       "      <td>298</td>\n",
       "      <td>299</td>\n",
       "      <td>2</td>\n",
       "      <td>10271</td>\n",
       "      <td>14544</td>\n",
       "      <td>250</td>\n",
       "      <td>250</td>\n",
       "      <td>2</td>\n",
       "      <td>0</td>\n",
       "      <td>5</td>\n",
       "      <td>5</td>\n",
       "      <td>0</td>\n",
       "    </tr>\n",
       "    <tr>\n",
       "      <th>3</th>\n",
       "      <td>0</td>\n",
       "      <td>6</td>\n",
       "      <td>0</td>\n",
       "      <td>29</td>\n",
       "      <td>216</td>\n",
       "      <td>219</td>\n",
       "      <td>2</td>\n",
       "      <td>2218</td>\n",
       "      <td>41560</td>\n",
       "      <td>250</td>\n",
       "      <td>250</td>\n",
       "      <td>2</td>\n",
       "      <td>0</td>\n",
       "      <td>5</td>\n",
       "      <td>5</td>\n",
       "      <td>0</td>\n",
       "    </tr>\n",
       "    <tr>\n",
       "      <th>4</th>\n",
       "      <td>0</td>\n",
       "      <td>6</td>\n",
       "      <td>0</td>\n",
       "      <td>27</td>\n",
       "      <td>333</td>\n",
       "      <td>334</td>\n",
       "      <td>2</td>\n",
       "      <td>10271</td>\n",
       "      <td>23633</td>\n",
       "      <td>250</td>\n",
       "      <td>250</td>\n",
       "      <td>2</td>\n",
       "      <td>0</td>\n",
       "      <td>5</td>\n",
       "      <td>5</td>\n",
       "      <td>0</td>\n",
       "    </tr>\n",
       "  </tbody>\n",
       "</table>\n",
       "</div>"
      ],
      "text/plain": [
       "   click  weekday  hour  user_agent  region  city  ad_exchange  domain  \\\n",
       "0      0        6     0          27      94    95            1   12217   \n",
       "1      0        6     0          29      80    85            2    2394   \n",
       "2      0        6     0          29     298   299            2   10271   \n",
       "3      0        6     0          29     216   219            2    2218   \n",
       "4      0        6     0          27     333   334            2   10271   \n",
       "\n",
       "   ad_slot_id  width  height  visibility  format  price  creative_id  \\\n",
       "0       50902    300     250           2       1      0            2   \n",
       "1       39778    336     280           2       0      5           10   \n",
       "2       14544    250     250           2       0      5            5   \n",
       "3       41560    250     250           2       0      5            5   \n",
       "4       23633    250     250           2       0      5            5   \n",
       "\n",
       "   key_page_url  \n",
       "0             0  \n",
       "1             0  \n",
       "2             0  \n",
       "3             0  \n",
       "4             0  "
      ]
     },
     "execution_count": 12,
     "metadata": {},
     "output_type": "execute_result"
    }
   ],
   "source": [
    "train4 = labelencoder(train3)\n",
    "\n",
    "test4 = labelencoder(test3)\n",
    "train4.head()"
   ]
  },
  {
   "cell_type": "code",
   "execution_count": 15,
   "metadata": {
    "collapsed": false
   },
   "outputs": [
    {
     "data": {
      "text/plain": [
       "0    2176840\n",
       "1     641176\n",
       "5      29786\n",
       "dtype: int64"
      ]
     },
     "execution_count": 15,
     "metadata": {},
     "output_type": "execute_result"
    }
   ],
   "source": [
    "train4['format'].value_counts()"
   ]
  },
  {
   "cell_type": "markdown",
   "metadata": {},
   "source": [
    "### 1.5. Check correlations of different features"
   ]
  },
  {
   "cell_type": "code",
   "execution_count": 18,
   "metadata": {
    "collapsed": false
   },
   "outputs": [
    {
     "data": {
      "text/html": [
       "<div>\n",
       "<table border=\"1\" class=\"dataframe\">\n",
       "  <thead>\n",
       "    <tr style=\"text-align: right;\">\n",
       "      <th></th>\n",
       "      <th>click</th>\n",
       "      <th>weekday</th>\n",
       "      <th>hour</th>\n",
       "      <th>user_agent</th>\n",
       "      <th>region</th>\n",
       "      <th>city</th>\n",
       "      <th>ad_exchange</th>\n",
       "      <th>domain</th>\n",
       "      <th>ad_slot_id</th>\n",
       "      <th>width</th>\n",
       "      <th>height</th>\n",
       "      <th>visibility</th>\n",
       "      <th>format</th>\n",
       "      <th>price</th>\n",
       "      <th>creative_id</th>\n",
       "      <th>key_page_url</th>\n",
       "    </tr>\n",
       "  </thead>\n",
       "  <tbody>\n",
       "    <tr>\n",
       "      <th>click</th>\n",
       "      <td>1.000000</td>\n",
       "      <td>0.001207</td>\n",
       "      <td>0.001222</td>\n",
       "      <td>-0.028117</td>\n",
       "      <td>-0.000393</td>\n",
       "      <td>-0.000463</td>\n",
       "      <td>-0.009116</td>\n",
       "      <td>0.007037</td>\n",
       "      <td>0.004320</td>\n",
       "      <td>-0.004252</td>\n",
       "      <td>0.003949</td>\n",
       "      <td>0.001475</td>\n",
       "      <td>0.029800</td>\n",
       "      <td>-0.001309</td>\n",
       "      <td>-0.006310</td>\n",
       "      <td>-0.005025</td>\n",
       "    </tr>\n",
       "    <tr>\n",
       "      <th>weekday</th>\n",
       "      <td>0.001207</td>\n",
       "      <td>1.000000</td>\n",
       "      <td>-0.007751</td>\n",
       "      <td>0.000115</td>\n",
       "      <td>0.005180</td>\n",
       "      <td>0.005285</td>\n",
       "      <td>-0.017115</td>\n",
       "      <td>0.013214</td>\n",
       "      <td>-0.009441</td>\n",
       "      <td>0.047306</td>\n",
       "      <td>-0.023120</td>\n",
       "      <td>0.001876</td>\n",
       "      <td>0.009420</td>\n",
       "      <td>0.009385</td>\n",
       "      <td>0.048914</td>\n",
       "      <td>-0.019498</td>\n",
       "    </tr>\n",
       "    <tr>\n",
       "      <th>hour</th>\n",
       "      <td>0.001222</td>\n",
       "      <td>-0.007751</td>\n",
       "      <td>1.000000</td>\n",
       "      <td>0.023327</td>\n",
       "      <td>-0.029533</td>\n",
       "      <td>-0.027964</td>\n",
       "      <td>0.018494</td>\n",
       "      <td>0.003991</td>\n",
       "      <td>-0.041326</td>\n",
       "      <td>0.023709</td>\n",
       "      <td>-0.006040</td>\n",
       "      <td>-0.009972</td>\n",
       "      <td>-0.032521</td>\n",
       "      <td>0.052011</td>\n",
       "      <td>-0.003474</td>\n",
       "      <td>-0.007843</td>\n",
       "    </tr>\n",
       "    <tr>\n",
       "      <th>user_agent</th>\n",
       "      <td>-0.028117</td>\n",
       "      <td>0.000115</td>\n",
       "      <td>0.023327</td>\n",
       "      <td>1.000000</td>\n",
       "      <td>0.017649</td>\n",
       "      <td>0.019839</td>\n",
       "      <td>0.092076</td>\n",
       "      <td>-0.062026</td>\n",
       "      <td>-0.062500</td>\n",
       "      <td>0.030323</td>\n",
       "      <td>-0.037679</td>\n",
       "      <td>-0.035876</td>\n",
       "      <td>-0.126809</td>\n",
       "      <td>0.030703</td>\n",
       "      <td>0.077129</td>\n",
       "      <td>0.038941</td>\n",
       "    </tr>\n",
       "    <tr>\n",
       "      <th>region</th>\n",
       "      <td>-0.000393</td>\n",
       "      <td>0.005180</td>\n",
       "      <td>-0.029533</td>\n",
       "      <td>0.017649</td>\n",
       "      <td>1.000000</td>\n",
       "      <td>0.994930</td>\n",
       "      <td>-0.041845</td>\n",
       "      <td>0.044890</td>\n",
       "      <td>-0.046384</td>\n",
       "      <td>-0.050062</td>\n",
       "      <td>0.034780</td>\n",
       "      <td>-0.000483</td>\n",
       "      <td>0.004730</td>\n",
       "      <td>-0.028268</td>\n",
       "      <td>-0.027688</td>\n",
       "      <td>-0.064129</td>\n",
       "    </tr>\n",
       "    <tr>\n",
       "      <th>city</th>\n",
       "      <td>-0.000463</td>\n",
       "      <td>0.005285</td>\n",
       "      <td>-0.027964</td>\n",
       "      <td>0.019839</td>\n",
       "      <td>0.994930</td>\n",
       "      <td>1.000000</td>\n",
       "      <td>-0.042174</td>\n",
       "      <td>0.044563</td>\n",
       "      <td>-0.045607</td>\n",
       "      <td>-0.049506</td>\n",
       "      <td>0.035372</td>\n",
       "      <td>-0.000663</td>\n",
       "      <td>0.005571</td>\n",
       "      <td>-0.026233</td>\n",
       "      <td>-0.027828</td>\n",
       "      <td>-0.063664</td>\n",
       "    </tr>\n",
       "    <tr>\n",
       "      <th>ad_exchange</th>\n",
       "      <td>-0.009116</td>\n",
       "      <td>-0.017115</td>\n",
       "      <td>0.018494</td>\n",
       "      <td>0.092076</td>\n",
       "      <td>-0.041845</td>\n",
       "      <td>-0.042174</td>\n",
       "      <td>1.000000</td>\n",
       "      <td>-0.586959</td>\n",
       "      <td>0.134946</td>\n",
       "      <td>0.683185</td>\n",
       "      <td>-0.494768</td>\n",
       "      <td>-0.144063</td>\n",
       "      <td>-0.654401</td>\n",
       "      <td>0.547319</td>\n",
       "      <td>0.295534</td>\n",
       "      <td>0.884243</td>\n",
       "    </tr>\n",
       "    <tr>\n",
       "      <th>domain</th>\n",
       "      <td>0.007037</td>\n",
       "      <td>0.013214</td>\n",
       "      <td>0.003991</td>\n",
       "      <td>-0.062026</td>\n",
       "      <td>0.044890</td>\n",
       "      <td>0.044563</td>\n",
       "      <td>-0.586959</td>\n",
       "      <td>1.000000</td>\n",
       "      <td>-0.376577</td>\n",
       "      <td>-0.454707</td>\n",
       "      <td>0.306779</td>\n",
       "      <td>0.079578</td>\n",
       "      <td>0.249116</td>\n",
       "      <td>-0.295349</td>\n",
       "      <td>-0.200565</td>\n",
       "      <td>-0.684136</td>\n",
       "    </tr>\n",
       "    <tr>\n",
       "      <th>ad_slot_id</th>\n",
       "      <td>0.004320</td>\n",
       "      <td>-0.009441</td>\n",
       "      <td>-0.041326</td>\n",
       "      <td>-0.062500</td>\n",
       "      <td>-0.046384</td>\n",
       "      <td>-0.045607</td>\n",
       "      <td>0.134946</td>\n",
       "      <td>-0.376577</td>\n",
       "      <td>1.000000</td>\n",
       "      <td>0.267666</td>\n",
       "      <td>-0.105512</td>\n",
       "      <td>0.031566</td>\n",
       "      <td>0.259229</td>\n",
       "      <td>0.052586</td>\n",
       "      <td>-0.039279</td>\n",
       "      <td>0.500081</td>\n",
       "    </tr>\n",
       "    <tr>\n",
       "      <th>width</th>\n",
       "      <td>-0.004252</td>\n",
       "      <td>0.047306</td>\n",
       "      <td>0.023709</td>\n",
       "      <td>0.030323</td>\n",
       "      <td>-0.050062</td>\n",
       "      <td>-0.049506</td>\n",
       "      <td>0.683185</td>\n",
       "      <td>-0.454707</td>\n",
       "      <td>0.267666</td>\n",
       "      <td>1.000000</td>\n",
       "      <td>-0.778838</td>\n",
       "      <td>-0.085537</td>\n",
       "      <td>-0.352802</td>\n",
       "      <td>0.453295</td>\n",
       "      <td>0.522891</td>\n",
       "      <td>0.712679</td>\n",
       "    </tr>\n",
       "    <tr>\n",
       "      <th>height</th>\n",
       "      <td>0.003949</td>\n",
       "      <td>-0.023120</td>\n",
       "      <td>-0.006040</td>\n",
       "      <td>-0.037679</td>\n",
       "      <td>0.034780</td>\n",
       "      <td>0.035372</td>\n",
       "      <td>-0.494768</td>\n",
       "      <td>0.306779</td>\n",
       "      <td>-0.105512</td>\n",
       "      <td>-0.778838</td>\n",
       "      <td>1.000000</td>\n",
       "      <td>0.058402</td>\n",
       "      <td>0.283064</td>\n",
       "      <td>-0.212654</td>\n",
       "      <td>-0.372123</td>\n",
       "      <td>-0.473705</td>\n",
       "    </tr>\n",
       "    <tr>\n",
       "      <th>visibility</th>\n",
       "      <td>0.001475</td>\n",
       "      <td>0.001876</td>\n",
       "      <td>-0.009972</td>\n",
       "      <td>-0.035876</td>\n",
       "      <td>-0.000483</td>\n",
       "      <td>-0.000663</td>\n",
       "      <td>-0.144063</td>\n",
       "      <td>0.079578</td>\n",
       "      <td>0.031566</td>\n",
       "      <td>-0.085537</td>\n",
       "      <td>0.058402</td>\n",
       "      <td>1.000000</td>\n",
       "      <td>0.097299</td>\n",
       "      <td>-0.085958</td>\n",
       "      <td>-0.052901</td>\n",
       "      <td>-0.098798</td>\n",
       "    </tr>\n",
       "    <tr>\n",
       "      <th>format</th>\n",
       "      <td>0.029800</td>\n",
       "      <td>0.009420</td>\n",
       "      <td>-0.032521</td>\n",
       "      <td>-0.126809</td>\n",
       "      <td>0.004730</td>\n",
       "      <td>0.005571</td>\n",
       "      <td>-0.654401</td>\n",
       "      <td>0.249116</td>\n",
       "      <td>0.259229</td>\n",
       "      <td>-0.352802</td>\n",
       "      <td>0.283064</td>\n",
       "      <td>0.097299</td>\n",
       "      <td>1.000000</td>\n",
       "      <td>-0.346939</td>\n",
       "      <td>-0.268585</td>\n",
       "      <td>-0.379748</td>\n",
       "    </tr>\n",
       "    <tr>\n",
       "      <th>price</th>\n",
       "      <td>-0.001309</td>\n",
       "      <td>0.009385</td>\n",
       "      <td>0.052011</td>\n",
       "      <td>0.030703</td>\n",
       "      <td>-0.028268</td>\n",
       "      <td>-0.026233</td>\n",
       "      <td>0.547319</td>\n",
       "      <td>-0.295349</td>\n",
       "      <td>0.052586</td>\n",
       "      <td>0.453295</td>\n",
       "      <td>-0.212654</td>\n",
       "      <td>-0.085958</td>\n",
       "      <td>-0.346939</td>\n",
       "      <td>1.000000</td>\n",
       "      <td>0.235160</td>\n",
       "      <td>0.496274</td>\n",
       "    </tr>\n",
       "    <tr>\n",
       "      <th>creative_id</th>\n",
       "      <td>-0.006310</td>\n",
       "      <td>0.048914</td>\n",
       "      <td>-0.003474</td>\n",
       "      <td>0.077129</td>\n",
       "      <td>-0.027688</td>\n",
       "      <td>-0.027828</td>\n",
       "      <td>0.295534</td>\n",
       "      <td>-0.200565</td>\n",
       "      <td>-0.039279</td>\n",
       "      <td>0.522891</td>\n",
       "      <td>-0.372123</td>\n",
       "      <td>-0.052901</td>\n",
       "      <td>-0.268585</td>\n",
       "      <td>0.235160</td>\n",
       "      <td>1.000000</td>\n",
       "      <td>0.214718</td>\n",
       "    </tr>\n",
       "    <tr>\n",
       "      <th>key_page_url</th>\n",
       "      <td>-0.005025</td>\n",
       "      <td>-0.019498</td>\n",
       "      <td>-0.007843</td>\n",
       "      <td>0.038941</td>\n",
       "      <td>-0.064129</td>\n",
       "      <td>-0.063664</td>\n",
       "      <td>0.884243</td>\n",
       "      <td>-0.684136</td>\n",
       "      <td>0.500081</td>\n",
       "      <td>0.712679</td>\n",
       "      <td>-0.473705</td>\n",
       "      <td>-0.098798</td>\n",
       "      <td>-0.379748</td>\n",
       "      <td>0.496274</td>\n",
       "      <td>0.214718</td>\n",
       "      <td>1.000000</td>\n",
       "    </tr>\n",
       "  </tbody>\n",
       "</table>\n",
       "</div>"
      ],
      "text/plain": [
       "                 click   weekday      hour  user_agent    region      city  \\\n",
       "click         1.000000  0.001207  0.001222   -0.028117 -0.000393 -0.000463   \n",
       "weekday       0.001207  1.000000 -0.007751    0.000115  0.005180  0.005285   \n",
       "hour          0.001222 -0.007751  1.000000    0.023327 -0.029533 -0.027964   \n",
       "user_agent   -0.028117  0.000115  0.023327    1.000000  0.017649  0.019839   \n",
       "region       -0.000393  0.005180 -0.029533    0.017649  1.000000  0.994930   \n",
       "city         -0.000463  0.005285 -0.027964    0.019839  0.994930  1.000000   \n",
       "ad_exchange  -0.009116 -0.017115  0.018494    0.092076 -0.041845 -0.042174   \n",
       "domain        0.007037  0.013214  0.003991   -0.062026  0.044890  0.044563   \n",
       "ad_slot_id    0.004320 -0.009441 -0.041326   -0.062500 -0.046384 -0.045607   \n",
       "width        -0.004252  0.047306  0.023709    0.030323 -0.050062 -0.049506   \n",
       "height        0.003949 -0.023120 -0.006040   -0.037679  0.034780  0.035372   \n",
       "visibility    0.001475  0.001876 -0.009972   -0.035876 -0.000483 -0.000663   \n",
       "format        0.029800  0.009420 -0.032521   -0.126809  0.004730  0.005571   \n",
       "price        -0.001309  0.009385  0.052011    0.030703 -0.028268 -0.026233   \n",
       "creative_id  -0.006310  0.048914 -0.003474    0.077129 -0.027688 -0.027828   \n",
       "key_page_url -0.005025 -0.019498 -0.007843    0.038941 -0.064129 -0.063664   \n",
       "\n",
       "              ad_exchange    domain  ad_slot_id     width    height  \\\n",
       "click           -0.009116  0.007037    0.004320 -0.004252  0.003949   \n",
       "weekday         -0.017115  0.013214   -0.009441  0.047306 -0.023120   \n",
       "hour             0.018494  0.003991   -0.041326  0.023709 -0.006040   \n",
       "user_agent       0.092076 -0.062026   -0.062500  0.030323 -0.037679   \n",
       "region          -0.041845  0.044890   -0.046384 -0.050062  0.034780   \n",
       "city            -0.042174  0.044563   -0.045607 -0.049506  0.035372   \n",
       "ad_exchange      1.000000 -0.586959    0.134946  0.683185 -0.494768   \n",
       "domain          -0.586959  1.000000   -0.376577 -0.454707  0.306779   \n",
       "ad_slot_id       0.134946 -0.376577    1.000000  0.267666 -0.105512   \n",
       "width            0.683185 -0.454707    0.267666  1.000000 -0.778838   \n",
       "height          -0.494768  0.306779   -0.105512 -0.778838  1.000000   \n",
       "visibility      -0.144063  0.079578    0.031566 -0.085537  0.058402   \n",
       "format          -0.654401  0.249116    0.259229 -0.352802  0.283064   \n",
       "price            0.547319 -0.295349    0.052586  0.453295 -0.212654   \n",
       "creative_id      0.295534 -0.200565   -0.039279  0.522891 -0.372123   \n",
       "key_page_url     0.884243 -0.684136    0.500081  0.712679 -0.473705   \n",
       "\n",
       "              visibility    format     price  creative_id  key_page_url  \n",
       "click           0.001475  0.029800 -0.001309    -0.006310     -0.005025  \n",
       "weekday         0.001876  0.009420  0.009385     0.048914     -0.019498  \n",
       "hour           -0.009972 -0.032521  0.052011    -0.003474     -0.007843  \n",
       "user_agent     -0.035876 -0.126809  0.030703     0.077129      0.038941  \n",
       "region         -0.000483  0.004730 -0.028268    -0.027688     -0.064129  \n",
       "city           -0.000663  0.005571 -0.026233    -0.027828     -0.063664  \n",
       "ad_exchange    -0.144063 -0.654401  0.547319     0.295534      0.884243  \n",
       "domain          0.079578  0.249116 -0.295349    -0.200565     -0.684136  \n",
       "ad_slot_id      0.031566  0.259229  0.052586    -0.039279      0.500081  \n",
       "width          -0.085537 -0.352802  0.453295     0.522891      0.712679  \n",
       "height          0.058402  0.283064 -0.212654    -0.372123     -0.473705  \n",
       "visibility      1.000000  0.097299 -0.085958    -0.052901     -0.098798  \n",
       "format          0.097299  1.000000 -0.346939    -0.268585     -0.379748  \n",
       "price          -0.085958 -0.346939  1.000000     0.235160      0.496274  \n",
       "creative_id    -0.052901 -0.268585  0.235160     1.000000      0.214718  \n",
       "key_page_url   -0.098798 -0.379748  0.496274     0.214718      1.000000  "
      ]
     },
     "execution_count": 18,
     "metadata": {},
     "output_type": "execute_result"
    }
   ],
   "source": [
    "train4.corr()"
   ]
  },
  {
   "cell_type": "markdown",
   "metadata": {
    "collapsed": true
   },
   "source": [
    "## 2. Random Forest Model"
   ]
  },
  {
   "cell_type": "markdown",
   "metadata": {},
   "source": [
    "### 2.1. Train_Test split"
   ]
  },
  {
   "cell_type": "code",
   "execution_count": 16,
   "metadata": {
    "collapsed": false
   },
   "outputs": [],
   "source": [
    "X_data = train4.drop('click',axis =1)\n",
    "y_data = train4['click']\n",
    "X_train, X_test, y_train, y_test = cross_validation.train_test_split(X_data, y_data, test_size=0.2, random_state=0)\n",
    "X = test4"
   ]
  },
  {
   "cell_type": "markdown",
   "metadata": {},
   "source": [
    "### 2.2 Build the model "
   ]
  },
  {
   "cell_type": "code",
   "execution_count": 99,
   "metadata": {
    "collapsed": false
   },
   "outputs": [
    {
     "data": {
      "text/plain": [
       "0.99927312343162988"
      ]
     },
     "execution_count": 99,
     "metadata": {},
     "output_type": "execute_result"
    }
   ],
   "source": [
    "#logistic regression\n",
    "\n",
    "from sklearn.linear_model import LogisticRegression\n",
    "\n",
    "lr = LogisticRegression()\n",
    "lr.fit(X_train, y_train)\n",
    "lr.score(X_train,y_train)\n",
    "\n"
   ]
  },
  {
   "cell_type": "code",
   "execution_count": 102,
   "metadata": {
    "collapsed": false
   },
   "outputs": [],
   "source": [
    "pred0 = pd.DataFrame(lr.predict(X))\n",
    "pred0.columns = ['click']\n"
   ]
  },
  {
   "cell_type": "code",
   "execution_count": 103,
   "metadata": {
    "collapsed": false
   },
   "outputs": [
    {
     "data": {
      "text/plain": [
       "0    2847802\n",
       "dtype: int64"
      ]
     },
     "execution_count": 103,
     "metadata": {},
     "output_type": "execute_result"
    }
   ],
   "source": [
    "pred0['click'].value_counts()"
   ]
  },
  {
   "cell_type": "code",
   "execution_count": 17,
   "metadata": {
    "collapsed": false
   },
   "outputs": [
    {
     "data": {
      "text/plain": [
       "0.99964007319682158"
      ]
     },
     "execution_count": 17,
     "metadata": {},
     "output_type": "execute_result"
    }
   ],
   "source": [
    "model= RandomForestClassifier()\n",
    "model.fit(X_train, y_train)\n",
    "model.score(X_train,y_train)"
   ]
  },
  {
   "cell_type": "markdown",
   "metadata": {},
   "source": [
    "### 2.3 Grid Search"
   ]
  },
  {
   "cell_type": "markdown",
   "metadata": {},
   "source": [
    "### 2.4 Model Evaluation"
   ]
  },
  {
   "cell_type": "code",
   "execution_count": 19,
   "metadata": {
    "collapsed": false
   },
   "outputs": [
    {
     "data": {
      "text/plain": [
       "0.99916075714453767"
      ]
     },
     "execution_count": 19,
     "metadata": {},
     "output_type": "execute_result"
    }
   ],
   "source": [
    "model.score(X_test,y_test)"
   ]
  },
  {
   "cell_type": "code",
   "execution_count": 20,
   "metadata": {
    "collapsed": false
   },
   "outputs": [
    {
     "data": {
      "text/plain": [
       "array([  1.17132666e-01,   2.08192472e-01,   5.75086667e-02,\n",
       "         9.70866008e-02,   2.91684918e-01,   2.34112392e-04,\n",
       "         9.62097476e-02,   1.03727749e-01,   3.50415446e-03,\n",
       "         2.13047754e-03,   9.00272881e-03,   3.82148399e-03,\n",
       "         5.96729545e-03,   3.00828394e-03,   7.88643514e-04])"
      ]
     },
     "execution_count": 20,
     "metadata": {},
     "output_type": "execute_result"
    }
   ],
   "source": [
    "model.feature_importances_"
   ]
  },
  {
   "cell_type": "code",
   "execution_count": 90,
   "metadata": {
    "collapsed": false
   },
   "outputs": [
    {
     "data": {
      "text/plain": [
       "<matplotlib.axes._subplots.AxesSubplot at 0x11c34fe10>"
      ]
     },
     "execution_count": 90,
     "metadata": {},
     "output_type": "execute_result"
    },
    {
     "data": {
      "image/png": "[encoded data removed]",
      "text/plain": [
       "<matplotlib.figure.Figure at 0x11c08aa58>"
      ]
     },
     "metadata": {},
     "output_type": "display_data"
    }
   ],
   "source": [
    "f = pd.DataFrame(model.feature_importances_)\n",
    "f.index =  [ 'weekday', 'hour',  'user_agent',  'region', 'city',\n",
    "           'ad_exchange', 'domain', 'ad_slot_id', 'width', 'height', 'visibility', 'format',\n",
    "           'price', 'creative_id', 'key_page_url']\n",
    "f.columns = ['f']\n",
    "f.sort(columns='f').plot(kind='barh',title='Feature importance by RF')\n",
    "\n"
   ]
  },
  {
   "cell_type": "markdown",
   "metadata": {},
   "source": [
    "### 2.5 Model Prediction"
   ]
  },
  {
   "cell_type": "code",
   "execution_count": 26,
   "metadata": {
    "collapsed": false,
    "scrolled": true
   },
   "outputs": [
    {
     "data": {
      "text/html": [
       "<div>\n",
       "<table border=\"1\" class=\"dataframe\">\n",
       "  <thead>\n",
       "    <tr style=\"text-align: right;\">\n",
       "      <th></th>\n",
       "      <th>0</th>\n",
       "    </tr>\n",
       "  </thead>\n",
       "  <tbody>\n",
       "    <tr>\n",
       "      <th>0</th>\n",
       "      <td>0</td>\n",
       "    </tr>\n",
       "    <tr>\n",
       "      <th>1</th>\n",
       "      <td>0</td>\n",
       "    </tr>\n",
       "    <tr>\n",
       "      <th>2</th>\n",
       "      <td>0</td>\n",
       "    </tr>\n",
       "    <tr>\n",
       "      <th>3</th>\n",
       "      <td>0</td>\n",
       "    </tr>\n",
       "    <tr>\n",
       "      <th>4</th>\n",
       "      <td>0</td>\n",
       "    </tr>\n",
       "    <tr>\n",
       "      <th>5</th>\n",
       "      <td>0</td>\n",
       "    </tr>\n",
       "    <tr>\n",
       "      <th>6</th>\n",
       "      <td>0</td>\n",
       "    </tr>\n",
       "    <tr>\n",
       "      <th>7</th>\n",
       "      <td>0</td>\n",
       "    </tr>\n",
       "    <tr>\n",
       "      <th>8</th>\n",
       "      <td>0</td>\n",
       "    </tr>\n",
       "    <tr>\n",
       "      <th>9</th>\n",
       "      <td>0</td>\n",
       "    </tr>\n",
       "    <tr>\n",
       "      <th>10</th>\n",
       "      <td>0</td>\n",
       "    </tr>\n",
       "    <tr>\n",
       "      <th>11</th>\n",
       "      <td>0</td>\n",
       "    </tr>\n",
       "    <tr>\n",
       "      <th>12</th>\n",
       "      <td>0</td>\n",
       "    </tr>\n",
       "    <tr>\n",
       "      <th>13</th>\n",
       "      <td>0</td>\n",
       "    </tr>\n",
       "    <tr>\n",
       "      <th>14</th>\n",
       "      <td>0</td>\n",
       "    </tr>\n",
       "    <tr>\n",
       "      <th>15</th>\n",
       "      <td>0</td>\n",
       "    </tr>\n",
       "    <tr>\n",
       "      <th>16</th>\n",
       "      <td>0</td>\n",
       "    </tr>\n",
       "    <tr>\n",
       "      <th>17</th>\n",
       "      <td>0</td>\n",
       "    </tr>\n",
       "    <tr>\n",
       "      <th>18</th>\n",
       "      <td>0</td>\n",
       "    </tr>\n",
       "    <tr>\n",
       "      <th>19</th>\n",
       "      <td>0</td>\n",
       "    </tr>\n",
       "    <tr>\n",
       "      <th>20</th>\n",
       "      <td>0</td>\n",
       "    </tr>\n",
       "    <tr>\n",
       "      <th>21</th>\n",
       "      <td>0</td>\n",
       "    </tr>\n",
       "    <tr>\n",
       "      <th>22</th>\n",
       "      <td>0</td>\n",
       "    </tr>\n",
       "    <tr>\n",
       "      <th>23</th>\n",
       "      <td>0</td>\n",
       "    </tr>\n",
       "    <tr>\n",
       "      <th>24</th>\n",
       "      <td>0</td>\n",
       "    </tr>\n",
       "    <tr>\n",
       "      <th>25</th>\n",
       "      <td>0</td>\n",
       "    </tr>\n",
       "    <tr>\n",
       "      <th>26</th>\n",
       "      <td>0</td>\n",
       "    </tr>\n",
       "    <tr>\n",
       "      <th>27</th>\n",
       "      <td>0</td>\n",
       "    </tr>\n",
       "    <tr>\n",
       "      <th>28</th>\n",
       "      <td>0</td>\n",
       "    </tr>\n",
       "    <tr>\n",
       "      <th>29</th>\n",
       "      <td>0</td>\n",
       "    </tr>\n",
       "    <tr>\n",
       "      <th>...</th>\n",
       "      <td>...</td>\n",
       "    </tr>\n",
       "    <tr>\n",
       "      <th>545391</th>\n",
       "      <td>0</td>\n",
       "    </tr>\n",
       "    <tr>\n",
       "      <th>545392</th>\n",
       "      <td>0</td>\n",
       "    </tr>\n",
       "    <tr>\n",
       "      <th>545393</th>\n",
       "      <td>0</td>\n",
       "    </tr>\n",
       "    <tr>\n",
       "      <th>545394</th>\n",
       "      <td>0</td>\n",
       "    </tr>\n",
       "    <tr>\n",
       "      <th>545395</th>\n",
       "      <td>0</td>\n",
       "    </tr>\n",
       "    <tr>\n",
       "      <th>545396</th>\n",
       "      <td>0</td>\n",
       "    </tr>\n",
       "    <tr>\n",
       "      <th>545397</th>\n",
       "      <td>0</td>\n",
       "    </tr>\n",
       "    <tr>\n",
       "      <th>545398</th>\n",
       "      <td>0</td>\n",
       "    </tr>\n",
       "    <tr>\n",
       "      <th>545399</th>\n",
       "      <td>0</td>\n",
       "    </tr>\n",
       "    <tr>\n",
       "      <th>545400</th>\n",
       "      <td>0</td>\n",
       "    </tr>\n",
       "    <tr>\n",
       "      <th>545401</th>\n",
       "      <td>0</td>\n",
       "    </tr>\n",
       "    <tr>\n",
       "      <th>545402</th>\n",
       "      <td>0</td>\n",
       "    </tr>\n",
       "    <tr>\n",
       "      <th>545403</th>\n",
       "      <td>0</td>\n",
       "    </tr>\n",
       "    <tr>\n",
       "      <th>545404</th>\n",
       "      <td>0</td>\n",
       "    </tr>\n",
       "    <tr>\n",
       "      <th>545405</th>\n",
       "      <td>0</td>\n",
       "    </tr>\n",
       "    <tr>\n",
       "      <th>545406</th>\n",
       "      <td>0</td>\n",
       "    </tr>\n",
       "    <tr>\n",
       "      <th>545407</th>\n",
       "      <td>0</td>\n",
       "    </tr>\n",
       "    <tr>\n",
       "      <th>545408</th>\n",
       "      <td>0</td>\n",
       "    </tr>\n",
       "    <tr>\n",
       "      <th>545409</th>\n",
       "      <td>0</td>\n",
       "    </tr>\n",
       "    <tr>\n",
       "      <th>545410</th>\n",
       "      <td>0</td>\n",
       "    </tr>\n",
       "    <tr>\n",
       "      <th>545411</th>\n",
       "      <td>0</td>\n",
       "    </tr>\n",
       "    <tr>\n",
       "      <th>545412</th>\n",
       "      <td>0</td>\n",
       "    </tr>\n",
       "    <tr>\n",
       "      <th>545413</th>\n",
       "      <td>0</td>\n",
       "    </tr>\n",
       "    <tr>\n",
       "      <th>545414</th>\n",
       "      <td>0</td>\n",
       "    </tr>\n",
       "    <tr>\n",
       "      <th>545415</th>\n",
       "      <td>0</td>\n",
       "    </tr>\n",
       "    <tr>\n",
       "      <th>545416</th>\n",
       "      <td>0</td>\n",
       "    </tr>\n",
       "    <tr>\n",
       "      <th>545417</th>\n",
       "      <td>0</td>\n",
       "    </tr>\n",
       "    <tr>\n",
       "      <th>545418</th>\n",
       "      <td>0</td>\n",
       "    </tr>\n",
       "    <tr>\n",
       "      <th>545419</th>\n",
       "      <td>0</td>\n",
       "    </tr>\n",
       "    <tr>\n",
       "      <th>545420</th>\n",
       "      <td>0</td>\n",
       "    </tr>\n",
       "  </tbody>\n",
       "</table>\n",
       "<p>545421 rows × 1 columns</p>\n",
       "</div>"
      ],
      "text/plain": [
       "        0\n",
       "0       0\n",
       "1       0\n",
       "2       0\n",
       "3       0\n",
       "4       0\n",
       "5       0\n",
       "6       0\n",
       "7       0\n",
       "8       0\n",
       "9       0\n",
       "10      0\n",
       "11      0\n",
       "12      0\n",
       "13      0\n",
       "14      0\n",
       "15      0\n",
       "16      0\n",
       "17      0\n",
       "18      0\n",
       "19      0\n",
       "20      0\n",
       "21      0\n",
       "22      0\n",
       "23      0\n",
       "24      0\n",
       "25      0\n",
       "26      0\n",
       "27      0\n",
       "28      0\n",
       "29      0\n",
       "...    ..\n",
       "545391  0\n",
       "545392  0\n",
       "545393  0\n",
       "545394  0\n",
       "545395  0\n",
       "545396  0\n",
       "545397  0\n",
       "545398  0\n",
       "545399  0\n",
       "545400  0\n",
       "545401  0\n",
       "545402  0\n",
       "545403  0\n",
       "545404  0\n",
       "545405  0\n",
       "545406  0\n",
       "545407  0\n",
       "545408  0\n",
       "545409  0\n",
       "545410  0\n",
       "545411  0\n",
       "545412  0\n",
       "545413  0\n",
       "545414  0\n",
       "545415  0\n",
       "545416  0\n",
       "545417  0\n",
       "545418  0\n",
       "545419  0\n",
       "545420  0\n",
       "\n",
       "[545421 rows x 1 columns]"
      ]
     },
     "execution_count": 26,
     "metadata": {},
     "output_type": "execute_result"
    }
   ],
   "source": [
    "pred = pd.DataFrame(model.predict(X))\n",
    "pred"
   ]
  },
  {
   "cell_type": "code",
   "execution_count": 29,
   "metadata": {
    "collapsed": false,
    "scrolled": true
   },
   "outputs": [],
   "source": [
    "pred.columns = ['click']"
   ]
  },
  {
   "cell_type": "code",
   "execution_count": 33,
   "metadata": {
    "collapsed": false
   },
   "outputs": [
    {
     "data": {
      "text/plain": [
       "0    545420\n",
       "1         1\n",
       "dtype: int64"
      ]
     },
     "execution_count": 33,
     "metadata": {},
     "output_type": "execute_result"
    }
   ],
   "source": [
    "pred['click'].value_counts()"
   ]
  },
  {
   "cell_type": "code",
   "execution_count": 32,
   "metadata": {
    "collapsed": false
   },
   "outputs": [
    {
     "data": {
      "text/html": [
       "<div>\n",
       "<table border=\"1\" class=\"dataframe\">\n",
       "  <thead>\n",
       "    <tr style=\"text-align: right;\">\n",
       "      <th></th>\n",
       "    </tr>\n",
       "    <tr>\n",
       "      <th>click</th>\n",
       "    </tr>\n",
       "  </thead>\n",
       "  <tbody>\n",
       "    <tr>\n",
       "      <th>0</th>\n",
       "    </tr>\n",
       "    <tr>\n",
       "      <th>1</th>\n",
       "    </tr>\n",
       "  </tbody>\n",
       "</table>\n",
       "</div>"
      ],
      "text/plain": [
       "Empty DataFrame\n",
       "Columns: []\n",
       "Index: [0, 1]"
      ]
     },
     "execution_count": 32,
     "metadata": {},
     "output_type": "execute_result"
    }
   ],
   "source": [
    "pred.groupby('click').count()"
   ]
  },
  {
   "cell_type": "markdown",
   "metadata": {},
   "source": [
    "### 2.6 XGBOOST"
   ]
  },
  {
   "cell_type": "code",
   "execution_count": 34,
   "metadata": {
    "collapsed": true
   },
   "outputs": [],
   "source": [
    "param={\n",
    "    'objective': 'binary:logistic',\n",
    "    'base_score': 0.5,\n",
    "    'colsample_bylevel': 1,\n",
    "    'colsample_bytree': 0.5,\n",
    "    'gamma': 0,\n",
    "    'learning_rate': 0.1,\n",
    "    'max_delta_step': 0,\n",
    "    'max_depth':10,\n",
    "    'min_child_weight': 31,\n",
    "    'missing': None,\n",
    "    'n_estimators': 100,\n",
    "    'nthread': 8,\n",
    "    'reg_alpha': 0,\n",
    "    'reg_lambda': 1,\n",
    "    'scale_pos_weight': 12,\n",
    "    'seed': 1,\n",
    "    'silent': 0,\n",
    "    'subsample': 1 \n",
    "}"
   ]
  },
  {
   "cell_type": "code",
   "execution_count": 36,
   "metadata": {
    "collapsed": false
   },
   "outputs": [
    {
     "data": {
      "text/plain": [
       "0.99918050812008041"
      ]
     },
     "execution_count": 36,
     "metadata": {},
     "output_type": "execute_result"
    }
   ],
   "source": [
    "xgb_model = xgb.XGBClassifier(**param)\n",
    "\n",
    "clf = xgb_model.fit(X_train,y_train)\n",
    "\n",
    "clf.score(X_train,y_train)"
   ]
  },
  {
   "cell_type": "code",
   "execution_count": 38,
   "metadata": {
    "collapsed": false
   },
   "outputs": [
    {
     "data": {
      "text/plain": [
       "0.99908701614050122"
      ]
     },
     "execution_count": 38,
     "metadata": {},
     "output_type": "execute_result"
    }
   ],
   "source": [
    "clf.score(X_test,y_test)"
   ]
  },
  {
   "cell_type": "code",
   "execution_count": 39,
   "metadata": {
    "collapsed": false
   },
   "outputs": [
    {
     "data": {
      "text/plain": [
       "array([[ 0.99496102,  0.00503897],\n",
       "       [ 0.99420595,  0.00579407],\n",
       "       [ 0.98574471,  0.01425531],\n",
       "       ..., \n",
       "       [ 0.99544418,  0.00455581],\n",
       "       [ 0.99595726,  0.00404276],\n",
       "       [ 0.99731213,  0.00268787]], dtype=float32)"
      ]
     },
     "execution_count": 39,
     "metadata": {},
     "output_type": "execute_result"
    }
   ],
   "source": [
    "clf.predict_proba(X)"
   ]
  },
  {
   "cell_type": "code",
   "execution_count": 40,
   "metadata": {
    "collapsed": true
   },
   "outputs": [],
   "source": [
    "pred1 = pd.DataFrame(clf.predict_proba(X))"
   ]
  },
  {
   "cell_type": "code",
   "execution_count": 42,
   "metadata": {
    "collapsed": false,
    "scrolled": true
   },
   "outputs": [
    {
     "data": {
      "text/html": [
       "<div>\n",
       "<table border=\"1\" class=\"dataframe\">\n",
       "  <thead>\n",
       "    <tr style=\"text-align: right;\">\n",
       "      <th></th>\n",
       "      <th>click</th>\n",
       "      <th>not_click</th>\n",
       "    </tr>\n",
       "  </thead>\n",
       "  <tbody>\n",
       "    <tr>\n",
       "      <th>0</th>\n",
       "      <td>0.994961</td>\n",
       "      <td>0.005039</td>\n",
       "    </tr>\n",
       "    <tr>\n",
       "      <th>1</th>\n",
       "      <td>0.994206</td>\n",
       "      <td>0.005794</td>\n",
       "    </tr>\n",
       "    <tr>\n",
       "      <th>2</th>\n",
       "      <td>0.985745</td>\n",
       "      <td>0.014255</td>\n",
       "    </tr>\n",
       "    <tr>\n",
       "      <th>3</th>\n",
       "      <td>0.997707</td>\n",
       "      <td>0.002293</td>\n",
       "    </tr>\n",
       "    <tr>\n",
       "      <th>4</th>\n",
       "      <td>0.997309</td>\n",
       "      <td>0.002691</td>\n",
       "    </tr>\n",
       "    <tr>\n",
       "      <th>5</th>\n",
       "      <td>0.994240</td>\n",
       "      <td>0.005760</td>\n",
       "    </tr>\n",
       "    <tr>\n",
       "      <th>6</th>\n",
       "      <td>0.997713</td>\n",
       "      <td>0.002287</td>\n",
       "    </tr>\n",
       "    <tr>\n",
       "      <th>7</th>\n",
       "      <td>0.994884</td>\n",
       "      <td>0.005116</td>\n",
       "    </tr>\n",
       "    <tr>\n",
       "      <th>8</th>\n",
       "      <td>0.995994</td>\n",
       "      <td>0.004006</td>\n",
       "    </tr>\n",
       "    <tr>\n",
       "      <th>9</th>\n",
       "      <td>0.995104</td>\n",
       "      <td>0.004896</td>\n",
       "    </tr>\n",
       "    <tr>\n",
       "      <th>10</th>\n",
       "      <td>0.988502</td>\n",
       "      <td>0.011498</td>\n",
       "    </tr>\n",
       "    <tr>\n",
       "      <th>11</th>\n",
       "      <td>0.997244</td>\n",
       "      <td>0.002756</td>\n",
       "    </tr>\n",
       "    <tr>\n",
       "      <th>12</th>\n",
       "      <td>0.997237</td>\n",
       "      <td>0.002763</td>\n",
       "    </tr>\n",
       "    <tr>\n",
       "      <th>13</th>\n",
       "      <td>0.999209</td>\n",
       "      <td>0.000791</td>\n",
       "    </tr>\n",
       "    <tr>\n",
       "      <th>14</th>\n",
       "      <td>0.991607</td>\n",
       "      <td>0.008393</td>\n",
       "    </tr>\n",
       "    <tr>\n",
       "      <th>15</th>\n",
       "      <td>0.993622</td>\n",
       "      <td>0.006378</td>\n",
       "    </tr>\n",
       "    <tr>\n",
       "      <th>16</th>\n",
       "      <td>0.995907</td>\n",
       "      <td>0.004093</td>\n",
       "    </tr>\n",
       "    <tr>\n",
       "      <th>17</th>\n",
       "      <td>0.996874</td>\n",
       "      <td>0.003126</td>\n",
       "    </tr>\n",
       "    <tr>\n",
       "      <th>18</th>\n",
       "      <td>0.987999</td>\n",
       "      <td>0.012001</td>\n",
       "    </tr>\n",
       "    <tr>\n",
       "      <th>19</th>\n",
       "      <td>0.988991</td>\n",
       "      <td>0.011009</td>\n",
       "    </tr>\n",
       "    <tr>\n",
       "      <th>20</th>\n",
       "      <td>0.995231</td>\n",
       "      <td>0.004769</td>\n",
       "    </tr>\n",
       "    <tr>\n",
       "      <th>21</th>\n",
       "      <td>0.996810</td>\n",
       "      <td>0.003190</td>\n",
       "    </tr>\n",
       "    <tr>\n",
       "      <th>22</th>\n",
       "      <td>0.997840</td>\n",
       "      <td>0.002160</td>\n",
       "    </tr>\n",
       "    <tr>\n",
       "      <th>23</th>\n",
       "      <td>0.991617</td>\n",
       "      <td>0.008383</td>\n",
       "    </tr>\n",
       "    <tr>\n",
       "      <th>24</th>\n",
       "      <td>0.995745</td>\n",
       "      <td>0.004255</td>\n",
       "    </tr>\n",
       "    <tr>\n",
       "      <th>25</th>\n",
       "      <td>0.998604</td>\n",
       "      <td>0.001396</td>\n",
       "    </tr>\n",
       "    <tr>\n",
       "      <th>26</th>\n",
       "      <td>0.993683</td>\n",
       "      <td>0.006317</td>\n",
       "    </tr>\n",
       "    <tr>\n",
       "      <th>27</th>\n",
       "      <td>0.996568</td>\n",
       "      <td>0.003432</td>\n",
       "    </tr>\n",
       "    <tr>\n",
       "      <th>28</th>\n",
       "      <td>0.998391</td>\n",
       "      <td>0.001609</td>\n",
       "    </tr>\n",
       "    <tr>\n",
       "      <th>29</th>\n",
       "      <td>0.997020</td>\n",
       "      <td>0.002980</td>\n",
       "    </tr>\n",
       "    <tr>\n",
       "      <th>...</th>\n",
       "      <td>...</td>\n",
       "      <td>...</td>\n",
       "    </tr>\n",
       "    <tr>\n",
       "      <th>545391</th>\n",
       "      <td>0.993331</td>\n",
       "      <td>0.006669</td>\n",
       "    </tr>\n",
       "    <tr>\n",
       "      <th>545392</th>\n",
       "      <td>0.992209</td>\n",
       "      <td>0.007791</td>\n",
       "    </tr>\n",
       "    <tr>\n",
       "      <th>545393</th>\n",
       "      <td>0.986000</td>\n",
       "      <td>0.014000</td>\n",
       "    </tr>\n",
       "    <tr>\n",
       "      <th>545394</th>\n",
       "      <td>0.998684</td>\n",
       "      <td>0.001316</td>\n",
       "    </tr>\n",
       "    <tr>\n",
       "      <th>545395</th>\n",
       "      <td>0.996257</td>\n",
       "      <td>0.003743</td>\n",
       "    </tr>\n",
       "    <tr>\n",
       "      <th>545396</th>\n",
       "      <td>0.996161</td>\n",
       "      <td>0.003839</td>\n",
       "    </tr>\n",
       "    <tr>\n",
       "      <th>545397</th>\n",
       "      <td>0.995698</td>\n",
       "      <td>0.004302</td>\n",
       "    </tr>\n",
       "    <tr>\n",
       "      <th>545398</th>\n",
       "      <td>0.991660</td>\n",
       "      <td>0.008340</td>\n",
       "    </tr>\n",
       "    <tr>\n",
       "      <th>545399</th>\n",
       "      <td>0.996056</td>\n",
       "      <td>0.003944</td>\n",
       "    </tr>\n",
       "    <tr>\n",
       "      <th>545400</th>\n",
       "      <td>0.996116</td>\n",
       "      <td>0.003884</td>\n",
       "    </tr>\n",
       "    <tr>\n",
       "      <th>545401</th>\n",
       "      <td>0.997768</td>\n",
       "      <td>0.002232</td>\n",
       "    </tr>\n",
       "    <tr>\n",
       "      <th>545402</th>\n",
       "      <td>0.998026</td>\n",
       "      <td>0.001974</td>\n",
       "    </tr>\n",
       "    <tr>\n",
       "      <th>545403</th>\n",
       "      <td>0.995188</td>\n",
       "      <td>0.004812</td>\n",
       "    </tr>\n",
       "    <tr>\n",
       "      <th>545404</th>\n",
       "      <td>0.998531</td>\n",
       "      <td>0.001469</td>\n",
       "    </tr>\n",
       "    <tr>\n",
       "      <th>545405</th>\n",
       "      <td>0.995648</td>\n",
       "      <td>0.004352</td>\n",
       "    </tr>\n",
       "    <tr>\n",
       "      <th>545406</th>\n",
       "      <td>0.995824</td>\n",
       "      <td>0.004176</td>\n",
       "    </tr>\n",
       "    <tr>\n",
       "      <th>545407</th>\n",
       "      <td>0.997354</td>\n",
       "      <td>0.002646</td>\n",
       "    </tr>\n",
       "    <tr>\n",
       "      <th>545408</th>\n",
       "      <td>0.998966</td>\n",
       "      <td>0.001034</td>\n",
       "    </tr>\n",
       "    <tr>\n",
       "      <th>545409</th>\n",
       "      <td>0.996956</td>\n",
       "      <td>0.003044</td>\n",
       "    </tr>\n",
       "    <tr>\n",
       "      <th>545410</th>\n",
       "      <td>0.996417</td>\n",
       "      <td>0.003583</td>\n",
       "    </tr>\n",
       "    <tr>\n",
       "      <th>545411</th>\n",
       "      <td>0.998097</td>\n",
       "      <td>0.001903</td>\n",
       "    </tr>\n",
       "    <tr>\n",
       "      <th>545412</th>\n",
       "      <td>0.994313</td>\n",
       "      <td>0.005687</td>\n",
       "    </tr>\n",
       "    <tr>\n",
       "      <th>545413</th>\n",
       "      <td>0.985966</td>\n",
       "      <td>0.014034</td>\n",
       "    </tr>\n",
       "    <tr>\n",
       "      <th>545414</th>\n",
       "      <td>0.988740</td>\n",
       "      <td>0.011260</td>\n",
       "    </tr>\n",
       "    <tr>\n",
       "      <th>545415</th>\n",
       "      <td>0.997342</td>\n",
       "      <td>0.002659</td>\n",
       "    </tr>\n",
       "    <tr>\n",
       "      <th>545416</th>\n",
       "      <td>0.991347</td>\n",
       "      <td>0.008652</td>\n",
       "    </tr>\n",
       "    <tr>\n",
       "      <th>545417</th>\n",
       "      <td>0.997131</td>\n",
       "      <td>0.002869</td>\n",
       "    </tr>\n",
       "    <tr>\n",
       "      <th>545418</th>\n",
       "      <td>0.995444</td>\n",
       "      <td>0.004556</td>\n",
       "    </tr>\n",
       "    <tr>\n",
       "      <th>545419</th>\n",
       "      <td>0.995957</td>\n",
       "      <td>0.004043</td>\n",
       "    </tr>\n",
       "    <tr>\n",
       "      <th>545420</th>\n",
       "      <td>0.997312</td>\n",
       "      <td>0.002688</td>\n",
       "    </tr>\n",
       "  </tbody>\n",
       "</table>\n",
       "<p>545421 rows × 2 columns</p>\n",
       "</div>"
      ],
      "text/plain": [
       "           click  not_click\n",
       "0       0.994961   0.005039\n",
       "1       0.994206   0.005794\n",
       "2       0.985745   0.014255\n",
       "3       0.997707   0.002293\n",
       "4       0.997309   0.002691\n",
       "5       0.994240   0.005760\n",
       "6       0.997713   0.002287\n",
       "7       0.994884   0.005116\n",
       "8       0.995994   0.004006\n",
       "9       0.995104   0.004896\n",
       "10      0.988502   0.011498\n",
       "11      0.997244   0.002756\n",
       "12      0.997237   0.002763\n",
       "13      0.999209   0.000791\n",
       "14      0.991607   0.008393\n",
       "15      0.993622   0.006378\n",
       "16      0.995907   0.004093\n",
       "17      0.996874   0.003126\n",
       "18      0.987999   0.012001\n",
       "19      0.988991   0.011009\n",
       "20      0.995231   0.004769\n",
       "21      0.996810   0.003190\n",
       "22      0.997840   0.002160\n",
       "23      0.991617   0.008383\n",
       "24      0.995745   0.004255\n",
       "25      0.998604   0.001396\n",
       "26      0.993683   0.006317\n",
       "27      0.996568   0.003432\n",
       "28      0.998391   0.001609\n",
       "29      0.997020   0.002980\n",
       "...          ...        ...\n",
       "545391  0.993331   0.006669\n",
       "545392  0.992209   0.007791\n",
       "545393  0.986000   0.014000\n",
       "545394  0.998684   0.001316\n",
       "545395  0.996257   0.003743\n",
       "545396  0.996161   0.003839\n",
       "545397  0.995698   0.004302\n",
       "545398  0.991660   0.008340\n",
       "545399  0.996056   0.003944\n",
       "545400  0.996116   0.003884\n",
       "545401  0.997768   0.002232\n",
       "545402  0.998026   0.001974\n",
       "545403  0.995188   0.004812\n",
       "545404  0.998531   0.001469\n",
       "545405  0.995648   0.004352\n",
       "545406  0.995824   0.004176\n",
       "545407  0.997354   0.002646\n",
       "545408  0.998966   0.001034\n",
       "545409  0.996956   0.003044\n",
       "545410  0.996417   0.003583\n",
       "545411  0.998097   0.001903\n",
       "545412  0.994313   0.005687\n",
       "545413  0.985966   0.014034\n",
       "545414  0.988740   0.011260\n",
       "545415  0.997342   0.002659\n",
       "545416  0.991347   0.008652\n",
       "545417  0.997131   0.002869\n",
       "545418  0.995444   0.004556\n",
       "545419  0.995957   0.004043\n",
       "545420  0.997312   0.002688\n",
       "\n",
       "[545421 rows x 2 columns]"
      ]
     },
     "execution_count": 42,
     "metadata": {},
     "output_type": "execute_result"
    }
   ],
   "source": [
    "pred1.columns = ['click','not_click']\n",
    "pred1"
   ]
  },
  {
   "cell_type": "code",
   "execution_count": 51,
   "metadata": {
    "collapsed": false
   },
   "outputs": [
    {
     "data": {
      "image/png": "[encoded data removed]",
      "text/plain": [
       "<matplotlib.figure.Figure at 0x116fd0f98>"
      ]
     },
     "metadata": {},
     "output_type": "display_data"
    }
   ],
   "source": [
    "xgb.plot_importance(clf)\n"
   ]
  },
  {
   "cell_type": "code",
   "execution_count": null,
   "metadata": {
    "collapsed": false
   },
   "outputs": [],
   "source": [
    "pred1.to_csv('./pred1.csv')"
   ]
  },
  {
   "cell_type": "markdown",
   "metadata": {},
   "source": [
    "### 1.6 Univariate feature selection\n",
    "this method is another try if the former dataset can not give a good performance\n",
    "\n",
    "Univariate feature selection works by selecting the best features based on univariate statistical tests. \n",
    "\n",
    "SelectKBest removes all but the k highest scoring features"
   ]
  },
  {
   "cell_type": "code",
   "execution_count": 119,
   "metadata": {
    "collapsed": false
   },
   "outputs": [
    {
     "name": "stdout",
     "output_type": "stream",
     "text": [
      "(2847802, 15)\n"
     ]
    },
    {
     "data": {
      "text/plain": [
       "SelectKBest(k=3, score_func=<function chi2 at 0x10dd25b70>)"
      ]
     },
     "execution_count": 119,
     "metadata": {},
     "output_type": "execute_result"
    }
   ],
   "source": [
    "# by changing the k value, we can decide how many topest factors we want to keep \n",
    "from sklearn.feature_selection import SelectKBest\n",
    "from sklearn.feature_selection import chi2\n",
    "X,y = train4.drop(['click'],axis =1),train4['click']\n",
    "print(X.shape)\n",
    "X_new = SelectKBest(chi2, k=3).fit(X, y) \n",
    "#print(X_new.shape)"
   ]
  },
  {
   "cell_type": "code",
   "execution_count": 118,
   "metadata": {
    "collapsed": false
   },
   "outputs": [
    {
     "data": {
      "text/plain": [
       "SelectKBest(k=3, score_func=<function chi2 at 0x10dd25b70>)"
      ]
     },
     "execution_count": 118,
     "metadata": {},
     "output_type": "execute_result"
    }
   ],
   "source": [
    "X_new"
   ]
  },
  {
   "cell_type": "markdown",
   "metadata": {},
   "source": [
    "### 1.7 Feature selection after implementation\n",
    "this method is based on the xgboost model's feature importance attribute, if the corresponding feature_importance_ value are below the threshold parametor, we can use this method to delete the unimportant features."
   ]
  },
  {
   "cell_type": "code",
   "execution_count": 97,
   "metadata": {
    "collapsed": false
   },
   "outputs": [
    {
     "name": "stdout",
     "output_type": "stream",
     "text": [
      "(2847802, 15)\n"
     ]
    },
    {
     "ename": "AttributeError",
     "evalue": "'module' object has no attribute 'fit'",
     "output_type": "error",
     "traceback": [
      "\u001b[0;31m---------------------------------------------------------------------------\u001b[0m",
      "\u001b[0;31mAttributeError\u001b[0m                            Traceback (most recent call last)",
      "\u001b[0;32m<ipython-input-97-ff29f039db9c>\u001b[0m in \u001b[0;36m<module>\u001b[0;34m()\u001b[0m\n\u001b[1;32m      4\u001b[0m \u001b[0mprint\u001b[0m\u001b[0;34m(\u001b[0m\u001b[0mX\u001b[0m\u001b[0;34m.\u001b[0m\u001b[0mshape\u001b[0m\u001b[0;34m)\u001b[0m\u001b[0;34m\u001b[0m\u001b[0m\n\u001b[1;32m      5\u001b[0m \u001b[0mxgboost\u001b[0m \u001b[0;34m=\u001b[0m \u001b[0mxgboost\u001b[0m\u001b[0;34m\u001b[0m\u001b[0m\n\u001b[0;32m----> 6\u001b[0;31m \u001b[0mclf\u001b[0m \u001b[0;34m=\u001b[0m\u001b[0mxgboost\u001b[0m\u001b[0;34m.\u001b[0m\u001b[0mfit\u001b[0m\u001b[0;34m(\u001b[0m\u001b[0mX\u001b[0m\u001b[0;34m,\u001b[0m\u001b[0my\u001b[0m\u001b[0;34m)\u001b[0m\u001b[0;34m\u001b[0m\u001b[0m\n\u001b[0m\u001b[1;32m      7\u001b[0m \u001b[0mclf\u001b[0m\u001b[0;34m.\u001b[0m\u001b[0mfeature_importance\u001b[0m\u001b[0;34m\u001b[0m\u001b[0m\n\u001b[1;32m      8\u001b[0m \u001b[0mmodel\u001b[0m \u001b[0;34m=\u001b[0m \u001b[0mSelectFromModel\u001b[0m\u001b[0;34m(\u001b[0m\u001b[0mclf\u001b[0m\u001b[0;34m,\u001b[0m \u001b[0mprefit\u001b[0m\u001b[0;34m=\u001b[0m\u001b[0;32mTrue\u001b[0m\u001b[0;34m)\u001b[0m\u001b[0;34m\u001b[0m\u001b[0m\n",
      "\u001b[0;31mAttributeError\u001b[0m: 'module' object has no attribute 'fit'"
     ]
    }
   ],
   "source": [
    "# Since our task is a prediction process, so we use a clf(short of classifier) as a discipline of choosing features.\n",
    "from sklearn.feature_selection import SelectFromModel\n",
    "X,y = train4.drop(['click'],axis =1),train4['click']\n",
    "print(X.shape)\n",
    "xgboost = xgboost\n",
    "clf =xgboost.fit(X,y)\n",
    "clf.feature_importance\n",
    "model = SelectFromModel(clf, prefit=True)\n",
    "X_new = model.transform(X)\n",
    "print(X_new.shape)"
   ]
  },
  {
   "cell_type": "code",
   "execution_count": null,
   "metadata": {
    "collapsed": false
   },
   "outputs": [],
   "source": [
    "X_tsne = TSNE(learning_rate=100).fit_transform(train4.drop(['click'],axis =1))"
   ]
  },
  {
   "cell_type": "code",
   "execution_count": null,
   "metadata": {
    "collapsed": true
   },
   "outputs": [],
   "source": [
    "scatter(X_tsne[:, 0], X_tsne[:, 1], c=train4['click'])"
   ]
  }
 ],
 "metadata": {
  "kernelspec": {
   "display_name": "Python 3",
   "language": "python",
   "name": "python3"
  },
  "language_info": {
   "codemirror_mode": {
    "name": "ipython",
    "version": 3
   },
   "file_extension": ".py",
   "mimetype": "text/x-python",
   "name": "python",
   "nbconvert_exporter": "python",
   "pygments_lexer": "ipython3",
   "version": "3.4.4"
  }
 },
 "nbformat": 4,
 "nbformat_minor": 0
}
