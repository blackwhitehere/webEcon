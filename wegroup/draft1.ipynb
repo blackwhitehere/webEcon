{
 "cells": [
  {
   "cell_type": "code",
   "execution_count": 1,
   "metadata": {
    "collapsed": false
   },
   "outputs": [],
   "source": [
    "import os, sys\n",
    "import pickle\n",
    "sys.path.append(\"/home/stan/Documents/dev/webEcon/wegroup/\")\n",
    "import utility as u\n",
    "import numpy as np\n",
    "import pandas as pd\n",
    "from sklearn import preprocessing as pre\n",
    "#from hyperopt import hp\n",
    "#from hyperopt import fmin, tpe, hp, STATUS_OK, Trials\n",
    "import xgboost as xgb\n",
    "from sklearn import metrics"
   ]
  },
  {
   "cell_type": "markdown",
   "metadata": {},
   "source": [
    "Import data into a dataframe"
   ]
  },
  {
   "cell_type": "code",
   "execution_count": 2,
   "metadata": {
    "collapsed": false
   },
   "outputs": [
    {
     "name": "stdout",
     "output_type": "stream",
     "text": [
      "Import of files finished.\n"
     ]
    }
   ],
   "source": [
    "train_file = \"data_train.txt\"\n",
    "test_file = \"shuffle_data_test.txt\"\n",
    "data_folder = 'data'\n",
    "columns = ['click', 'weekday', 'hour', 'timestamp', 'log_type', 'user_id', 'user_agent', 'ip', 'region', 'city',\n",
    "           'ad_exchange', 'domain', 'url', 'anon_url_id', 'ad_slot_id', 'width', 'height', 'visibility', 'format',\n",
    "           'price', 'creative_id', 'key_page_url', 'advertiser_id', 'user_tags']\n",
    "\n",
    "train, test = u.import_tr_te(train_file, test_file, columns, data_folder)\n",
    "train['sample'] = 'train'\n",
    "test['sample'] = 'test'\n",
    "test['click'] = np.NaN\n",
    "join = pd.concat([train, test], ignore_index=True)\n",
    "join['id'] = join.index  # test real id is \"iid\"\n",
    "\n",
    "print(\"Import of files finished.\")"
   ]
  },
  {
   "cell_type": "markdown",
   "metadata": {},
   "source": [
    "Based on EDA assign columns to groups"
   ]
  },
  {
   "cell_type": "code",
   "execution_count": 2,
   "metadata": {
    "collapsed": true
   },
   "outputs": [],
   "source": [
    "bad_features = ['log_type', 'anon_url_id', 'advertiser_id']  # no variance\n",
    "id_features = ['user_id', 'ip', 'domain', 'url', \"ad_slot_id\", 'creative_id', 'key_page_url']\n",
    "non_features = ['id', 'sample']  #auxilary vars\n",
    "trans_features = ['user_agent','timestamp','user_tags']\n",
    "\n",
    "# few levels, able to convert to numbers: (counts: 2,11,3,3)\n",
    "# using a randomized classifier will make the random assignment of numbers to classes arbitrary\n",
    "to_be_cat_feats = ['key_page_url', 'creative_id', 'format', 'ad_exchange']\n",
    "cont = ['width', 'area', 'height', 'price', 'cost_per_area']"
   ]
  },
  {
   "cell_type": "markdown",
   "metadata": {},
   "source": [
    "Drop not needed columns"
   ]
  },
  {
   "cell_type": "code",
   "execution_count": null,
   "metadata": {
    "collapsed": true
   },
   "outputs": [],
   "source": [
    "join.drop(bad_features, axis=1, inplace=True)"
   ]
  },
  {
   "cell_type": "code",
   "execution_count": 8,
   "metadata": {
    "collapsed": false
   },
   "outputs": [],
   "source": [
    "join.drop([f for f in id_features if f not in to_be_cat_feats], axis=1, inplace=True)"
   ]
  },
  {
   "cell_type": "markdown",
   "metadata": {},
   "source": [
    "Encode categorical features by numbers"
   ]
  },
  {
   "cell_type": "code",
   "execution_count": 9,
   "metadata": {
    "collapsed": true
   },
   "outputs": [],
   "source": [
    "def labelencoder(train_data):\n",
    "    for f in to_be_cat_feats:\n",
    "        if train_data[f].dtype == 'object':\n",
    "            lbl = pre.LabelEncoder()\n",
    "            lbl.fit(np.unique(list(train_data[f].values)))\n",
    "            train_data[f] = lbl.transform(list(train_data[f].values))\n",
    "    return train_data"
   ]
  },
  {
   "cell_type": "code",
   "execution_count": 10,
   "metadata": {
    "collapsed": true
   },
   "outputs": [],
   "source": [
    "join = labelencoder(join)"
   ]
  },
  {
   "cell_type": "markdown",
   "metadata": {},
   "source": [
    "Apply data transform functions"
   ]
  },
  {
   "cell_type": "code",
   "execution_count": 11,
   "metadata": {
    "collapsed": false
   },
   "outputs": [],
   "source": [
    "simple_feat_funct = [u.tfidf, u.split_user_agent, u.split_timestamp, u.multiply, u.cost_per_area]\n",
    "for funct in simple_feat_funct:\n",
    "    df = funct(join)\n",
    "    join = pd.concat([join, df], axis=1)\n",
    "del df"
   ]
  },
  {
   "cell_type": "markdown",
   "metadata": {},
   "source": [
    "Substitution of categorical encoding of sys and browser by ordinal values"
   ]
  },
  {
   "cell_type": "code",
   "execution_count": 12,
   "metadata": {
    "collapsed": false
   },
   "outputs": [
    {
     "data": {
      "text/plain": [
       "array(['android', 'ios', 'linux', 'mac', 'other', 'windows'], dtype=object)"
      ]
     },
     "execution_count": 12,
     "metadata": {},
     "output_type": "execute_result"
    }
   ],
   "source": [
    "np.unique(join['sys'])"
   ]
  },
  {
   "cell_type": "markdown",
   "metadata": {},
   "source": [
    "Numbers chosen in order of sophistication"
   ]
  },
  {
   "cell_type": "code",
   "execution_count": 12,
   "metadata": {
    "collapsed": true
   },
   "outputs": [],
   "source": [
    "ordinal_sys={'ios':1,'android':2,'windows':3, 'mac':4,'linux':5,'other':6}"
   ]
  },
  {
   "cell_type": "code",
   "execution_count": 8,
   "metadata": {
    "collapsed": false
   },
   "outputs": [
    {
     "data": {
      "text/plain": [
       "array(['chrome', 'firefox', 'ie', 'maxthon', 'opera', 'other', 'safari',\n",
       "       'sogou', 'theworld'], dtype=object)"
      ]
     },
     "execution_count": 8,
     "metadata": {},
     "output_type": "execute_result"
    }
   ],
   "source": [
    "np.unique(join['browser'])"
   ]
  },
  {
   "cell_type": "markdown",
   "metadata": {},
   "source": [
    "Numbers chosen in order of sophistication"
   ]
  },
  {
   "cell_type": "code",
   "execution_count": 13,
   "metadata": {
    "collapsed": true
   },
   "outputs": [],
   "source": [
    "ordinal_browser={'ie':1,'safari':2,'chrome':3, 'opera':4,'firefox':5,'sogou':6,'theworld':6,'maxthon':6,'other':7}"
   ]
  },
  {
   "cell_type": "code",
   "execution_count": 14,
   "metadata": {
    "collapsed": false
   },
   "outputs": [],
   "source": [
    "join['sys']=join['sys'].map(lambda x: ordinal_sys[x])"
   ]
  },
  {
   "cell_type": "code",
   "execution_count": 15,
   "metadata": {
    "collapsed": true
   },
   "outputs": [],
   "source": [
    "join['browser']=join['browser'].map(lambda x: ordinal_browser[x])"
   ]
  },
  {
   "cell_type": "code",
   "execution_count": 16,
   "metadata": {
    "collapsed": false
   },
   "outputs": [],
   "source": [
    "join.drop(trans_features, axis=1, inplace=True)"
   ]
  },
  {
   "cell_type": "code",
   "execution_count": 17,
   "metadata": {
    "collapsed": false
   },
   "outputs": [
    {
     "data": {
      "text/plain": [
       "ad_exchange        int64\n",
       "city               int64\n",
       "click            float64\n",
       "creative_id        int64\n",
       "format             int64\n",
       "height             int64\n",
       "hour               int64\n",
       "key_page_url       int64\n",
       "price              int64\n",
       "region             int64\n",
       "sample            object\n",
       "visibility         int64\n",
       "weekday            int64\n",
       "width              int64\n",
       "id                 int64\n",
       "user_tags_0      float64\n",
       "user_tags_1      float64\n",
       "user_tags_2      float64\n",
       "user_tags_3      float64\n",
       "user_tags_4      float64\n",
       "sys                int64\n",
       "browser            int64\n",
       "ty               float64\n",
       "tm               float64\n",
       "td               float64\n",
       "area               int64\n",
       "cost_per_area    float64\n",
       "dtype: object"
      ]
     },
     "execution_count": 17,
     "metadata": {},
     "output_type": "execute_result"
    }
   ],
   "source": [
    "join.dtypes"
   ]
  },
  {
   "cell_type": "code",
   "execution_count": 18,
   "metadata": {
    "collapsed": true
   },
   "outputs": [],
   "source": [
    "index = pd.MultiIndex.from_arrays([join['sample'],join.index], names=['sample','id'])\n",
    "join.index=index"
   ]
  },
  {
   "cell_type": "code",
   "execution_count": 19,
   "metadata": {
    "collapsed": false
   },
   "outputs": [],
   "source": [
    "pickle.dump(join, open(\"join_final.p\", 'wb'))"
   ]
  },
  {
   "cell_type": "markdown",
   "metadata": {},
   "source": [
    "Create train and test"
   ]
  },
  {
   "cell_type": "code",
   "execution_count": 20,
   "metadata": {
    "collapsed": true
   },
   "outputs": [],
   "source": [
    "train=join.loc['train']"
   ]
  },
  {
   "cell_type": "code",
   "execution_count": 21,
   "metadata": {
    "collapsed": true
   },
   "outputs": [],
   "source": [
    "test=join.loc['test']"
   ]
  },
  {
   "cell_type": "code",
   "execution_count": 4,
   "metadata": {
    "collapsed": false
   },
   "outputs": [],
   "source": [
    "train.drop(non_features,axis=1,inplace=True)"
   ]
  },
  {
   "cell_type": "code",
   "execution_count": 6,
   "metadata": {
    "collapsed": true
   },
   "outputs": [],
   "source": [
    "test.drop(non_features,axis=1,inplace=True)"
   ]
  },
  {
   "cell_type": "code",
   "execution_count": 22,
   "metadata": {
    "collapsed": false
   },
   "outputs": [
    {
     "name": "stdout",
     "output_type": "stream",
     "text": [
      "Dumping features to file...\n"
     ]
    }
   ],
   "source": [
    "print(\"Dumping features to file...\")\n",
    "pickle.dump(train, open(\"train_final.p\", 'wb'))"
   ]
  },
  {
   "cell_type": "code",
   "execution_count": 23,
   "metadata": {
    "collapsed": true
   },
   "outputs": [],
   "source": [
    "pickle.dump(test, open(\"test_final.p\", 'wb'))"
   ]
  },
  {
   "cell_type": "markdown",
   "metadata": {},
   "source": [
    "#### Load df from files"
   ]
  },
  {
   "cell_type": "code",
   "execution_count": null,
   "metadata": {
    "collapsed": false
   },
   "outputs": [],
   "source": [
    "#join = pickle.load(open('join_final.p', \"rb\")) #if needed"
   ]
  },
  {
   "cell_type": "code",
   "execution_count": 3,
   "metadata": {
    "collapsed": true
   },
   "outputs": [],
   "source": [
    "train = pickle.load(open('train_final.p', 'rb'))"
   ]
  },
  {
   "cell_type": "code",
   "execution_count": 7,
   "metadata": {
    "collapsed": true
   },
   "outputs": [],
   "source": [
    "dataX = train[[f for f in train.columns if f!='click']]\n",
    "dataY = train['click']"
   ]
  },
  {
   "cell_type": "code",
   "execution_count": 8,
   "metadata": {
    "collapsed": false
   },
   "outputs": [
    {
     "data": {
      "text/plain": [
       "Index(['ad_exchange', 'city', 'creative_id', 'format', 'height', 'hour',\n",
       "       'key_page_url', 'price', 'region', 'visibility', 'weekday', 'width',\n",
       "       'user_tags_0', 'user_tags_1', 'user_tags_2', 'user_tags_3',\n",
       "       'user_tags_4', 'sys', 'browser', 'ty', 'tm', 'td', 'area',\n",
       "       'cost_per_area'],\n",
       "      dtype='object')"
      ]
     },
     "execution_count": 8,
     "metadata": {},
     "output_type": "execute_result"
    }
   ],
   "source": [
    "dataX.columns"
   ]
  },
  {
   "cell_type": "code",
   "execution_count": 5,
   "metadata": {
    "collapsed": true
   },
   "outputs": [],
   "source": [
    "test = pickle.load(open('test_final.p', 'rb'))"
   ]
  },
  {
   "cell_type": "code",
   "execution_count": 9,
   "metadata": {
    "collapsed": false
   },
   "outputs": [],
   "source": [
    "test=test[[f for f in test.columns if f!='click']]"
   ]
  },
  {
   "cell_type": "markdown",
   "metadata": {},
   "source": [
    "Normalize continuous variables"
   ]
  },
  {
   "cell_type": "code",
   "execution_count": 10,
   "metadata": {
    "collapsed": true
   },
   "outputs": [
    {
     "name": "stderr",
     "output_type": "stream",
     "text": [
      "/usr/share/anaconda3/lib/python3.5/site-packages/sklearn/utils/validation.py:420: DataConversionWarning: Data with input dtype int64 was converted to float64 by the scale function.\n",
      "  warnings.warn(msg, DataConversionWarning)\n",
      "/usr/share/anaconda3/lib/python3.5/site-packages/ipykernel/__main__.py:2: SettingWithCopyWarning: \n",
      "A value is trying to be set on a copy of a slice from a DataFrame.\n",
      "Try using .loc[row_indexer,col_indexer] = value instead\n",
      "\n",
      "See the caveats in the documentation: http://pandas.pydata.org/pandas-docs/stable/indexing.html#indexing-view-versus-copy\n",
      "  from ipykernel import kernelapp as app\n",
      "/usr/share/anaconda3/lib/python3.5/site-packages/sklearn/utils/validation.py:420: DataConversionWarning: Data with input dtype int64 was converted to float64 by the scale function.\n",
      "  warnings.warn(msg, DataConversionWarning)\n",
      "/usr/share/anaconda3/lib/python3.5/site-packages/sklearn/utils/validation.py:420: DataConversionWarning: Data with input dtype int64 was converted to float64 by the scale function.\n",
      "  warnings.warn(msg, DataConversionWarning)\n",
      "/usr/share/anaconda3/lib/python3.5/site-packages/sklearn/utils/validation.py:420: DataConversionWarning: Data with input dtype int64 was converted to float64 by the scale function.\n",
      "  warnings.warn(msg, DataConversionWarning)\n"
     ]
    }
   ],
   "source": [
    "for c in cont:\n",
    "    dataX[c] = pre.scale(dataX[c])"
   ]
  },
  {
   "cell_type": "code",
   "execution_count": 11,
   "metadata": {
    "collapsed": true
   },
   "outputs": [
    {
     "name": "stderr",
     "output_type": "stream",
     "text": [
      "/usr/share/anaconda3/lib/python3.5/site-packages/sklearn/utils/validation.py:420: DataConversionWarning: Data with input dtype int64 was converted to float64 by the scale function.\n",
      "  warnings.warn(msg, DataConversionWarning)\n",
      "/usr/share/anaconda3/lib/python3.5/site-packages/sklearn/utils/validation.py:420: DataConversionWarning: Data with input dtype int64 was converted to float64 by the scale function.\n",
      "  warnings.warn(msg, DataConversionWarning)\n",
      "/usr/share/anaconda3/lib/python3.5/site-packages/sklearn/utils/validation.py:420: DataConversionWarning: Data with input dtype int64 was converted to float64 by the scale function.\n",
      "  warnings.warn(msg, DataConversionWarning)\n",
      "/usr/share/anaconda3/lib/python3.5/site-packages/sklearn/utils/validation.py:420: DataConversionWarning: Data with input dtype int64 was converted to float64 by the scale function.\n",
      "  warnings.warn(msg, DataConversionWarning)\n"
     ]
    }
   ],
   "source": [
    "for c in cont:\n",
    "    test[c] = pre.scale(test[c])"
   ]
  },
  {
   "cell_type": "markdown",
   "metadata": {},
   "source": [
    "Create validation sample from training data"
   ]
  },
  {
   "cell_type": "code",
   "execution_count": 12,
   "metadata": {
    "collapsed": true
   },
   "outputs": [],
   "source": [
    "sz=(dataX.values).shape"
   ]
  },
  {
   "cell_type": "code",
   "execution_count": 13,
   "metadata": {
    "collapsed": false
   },
   "outputs": [],
   "source": [
    "from sklearn.cross_validation import train_test_split"
   ]
  },
  {
   "cell_type": "code",
   "execution_count": 14,
   "metadata": {
    "collapsed": false
   },
   "outputs": [],
   "source": [
    "train_X, test_X, train_Y, test_Y = train_test_split(dataX, dataY, test_size=0.3, random_state=1234)"
   ]
  },
  {
   "cell_type": "code",
   "execution_count": 15,
   "metadata": {
    "collapsed": false
   },
   "outputs": [],
   "source": [
    "xg_train = xgb.DMatrix(train_X, label=train_Y, feature_names=dataX.columns) #\n",
    "xg_test = xgb.DMatrix(test_X, label=test_Y, feature_names=dataX.columns) #\n",
    "full_xg_test = xgb.DMatrix(test,feature_names=test.columns) #"
   ]
  },
  {
   "cell_type": "markdown",
   "metadata": {},
   "source": [
    "Define different configs for xgboost"
   ]
  },
  {
   "cell_type": "code",
   "execution_count": 16,
   "metadata": {
    "collapsed": true
   },
   "outputs": [],
   "source": [
    "param = {}\n",
    "#param['objective'] = 'binary:logistic'\n",
    "param['objective'] = 'multi:softprob'\n",
    "\n",
    "num_round = 5\n",
    "#param['eta'] = 0.5\n",
    "#param['lambda']=1.1\n",
    "#param['max_depth'] = 8\n",
    "#param['min_child_weight']=3\n",
    "#param['max_delta_step']=10 # as recommended http://xgboost.readthedocs.org/en/latest/param_tuning.html\n",
    "#param['subsample']=0.6\n",
    "\n",
    "watchlist = [(xg_train,'train'), (xg_test, 'test')]\n",
    "param['eval_metric']='mlogloss'\n",
    "#param['eval_metric'] = 'auc'\n",
    "param['nthread'] = 3\n",
    "param['num_class'] = 2"
   ]
  },
  {
   "cell_type": "code",
   "execution_count": 44,
   "metadata": {
    "collapsed": false
   },
   "outputs": [
    {
     "name": "stderr",
     "output_type": "stream",
     "text": [
      "[0]\ttrain-mlogloss:0.438207\ttest-mlogloss:0.438251\n",
      "[1]\ttrain-mlogloss:0.297442\ttest-mlogloss:0.297522\n",
      "[2]\ttrain-mlogloss:0.208807\ttest-mlogloss:0.208920\n",
      "[3]\ttrain-mlogloss:0.149569\ttest-mlogloss:0.149713\n"
     ]
    }
   ],
   "source": [
    "bst = xgb.train(param, xg_train, num_round, evals=watchlist)"
   ]
  },
  {
   "cell_type": "markdown",
   "metadata": {},
   "source": [
    "Default performance"
   ]
  },
  {
   "cell_type": "code",
   "execution_count": 45,
   "metadata": {
    "collapsed": false
   },
   "outputs": [
    {
     "data": {
      "text/plain": [
       "0.57060347737966022"
      ]
     },
     "execution_count": 45,
     "metadata": {},
     "output_type": "execute_result"
    }
   ],
   "source": [
    "xgbpred_sample_test = bst.predict(xg_test)\n",
    "score=metrics.roc_auc_score(test_Y, xgbpred_sample_test.T[1])\n",
    "score"
   ]
  },
  {
   "cell_type": "code",
   "execution_count": 58,
   "metadata": {
    "collapsed": true
   },
   "outputs": [],
   "source": [
    "def hp_search(param_name, array_of_values):\n",
    "    scores={}\n",
    "    for v in array_of_values:\n",
    "        #temporarely change parameter\n",
    "        param[param_name]=v\n",
    "        #train model, predict on validation set and calculate auc\n",
    "        bst = xgb.train(param, xg_train, num_round, evals=watchlist)\n",
    "        xgbpred_sample_test = bst.predict(xg_test)\n",
    "        score=metrics.roc_auc_score(test_Y, xgbpred_sample_test.T[1])\n",
    "        scores[v]=score\n",
    "        print(str(v)+': '+str(score))\n",
    "    #set param value to best value\n",
    "    param[param_name]=max(scores, key=scores.get)"
   ]
  },
  {
   "cell_type": "code",
   "execution_count": 62,
   "metadata": {
    "collapsed": false
   },
   "outputs": [
    {
     "name": "stderr",
     "output_type": "stream",
     "text": [
      "[0]\ttrain-mlogloss:0.314340\ttest-mlogloss:0.314413\n",
      "[1]\ttrain-mlogloss:0.171912\ttest-mlogloss:0.172041\n",
      "[2]\ttrain-mlogloss:0.099746\ttest-mlogloss:0.099925\n",
      "[3]\ttrain-mlogloss:0.059881\ttest-mlogloss:0.060113\n",
      "[4]\ttrain-mlogloss:0.037005\ttest-mlogloss:0.037288\n",
      "[0]\ttrain-mlogloss:0.221786\ttest-mlogloss:0.221888\n",
      "[1]\ttrain-mlogloss:0.100084\ttest-mlogloss:0.100260\n",
      "[2]\ttrain-mlogloss:0.049042\ttest-mlogloss:0.049295\n",
      "[3]\ttrain-mlogloss:0.025611\ttest-mlogloss:0.025933\n",
      "[4]\ttrain-mlogloss:0.014541\ttest-mlogloss:0.014941\n"
     ]
    },
    {
     "name": "stdout",
     "output_type": "stream",
     "text": [
      "0.5: 0.725506274127\n",
      "0.7: 0.725603221859"
     ]
    },
    {
     "name": "stderr",
     "output_type": "stream",
     "text": [
      "[0]\ttrain-mlogloss:0.128660\ttest-mlogloss:0.128805\n",
      "[1]\ttrain-mlogloss:0.045093\ttest-mlogloss:0.045343\n",
      "[2]\ttrain-mlogloss:0.018390\ttest-mlogloss:0.018748\n",
      "[3]\ttrain-mlogloss:0.009305\ttest-mlogloss:0.009790\n"
     ]
    },
    {
     "name": "stdout",
     "output_type": "stream",
     "text": [
      "\n",
      "1: 0.728102245713\n"
     ]
    },
    {
     "name": "stderr",
     "output_type": "stream",
     "text": [
      "[4]\ttrain-mlogloss:0.006308\ttest-mlogloss:0.006904\n"
     ]
    }
   ],
   "source": [
    "hp_search('eta',[0.5, 0.7, 1])"
   ]
  },
  {
   "cell_type": "code",
   "execution_count": 63,
   "metadata": {
    "collapsed": false
   },
   "outputs": [
    {
     "name": "stderr",
     "output_type": "stream",
     "text": [
      "[0]\ttrain-mlogloss:0.128660\ttest-mlogloss:0.128805\n",
      "[1]\ttrain-mlogloss:0.045093\ttest-mlogloss:0.045343\n",
      "[2]\ttrain-mlogloss:0.018390\ttest-mlogloss:0.018748\n",
      "[3]\ttrain-mlogloss:0.009305\ttest-mlogloss:0.009790\n",
      "[4]\ttrain-mlogloss:0.006308\ttest-mlogloss:0.006904\n",
      "[0]\ttrain-mlogloss:0.128660\ttest-mlogloss:0.128806\n",
      "[1]\ttrain-mlogloss:0.045093\ttest-mlogloss:0.045343\n",
      "[2]\ttrain-mlogloss:0.018390\ttest-mlogloss:0.018748\n",
      "[3]\ttrain-mlogloss:0.009306\ttest-mlogloss:0.009783\n",
      "[4]\ttrain-mlogloss:0.006308\ttest-mlogloss:0.006893\n"
     ]
    },
    {
     "name": "stdout",
     "output_type": "stream",
     "text": [
      "1: 0.728102245713\n",
      "1.05: 0.72810958286"
     ]
    },
    {
     "name": "stderr",
     "output_type": "stream",
     "text": [
      "[0]\ttrain-mlogloss:0.128660\ttest-mlogloss:0.128806\n",
      "[1]\ttrain-mlogloss:0.045093\ttest-mlogloss:0.045342\n",
      "[2]\ttrain-mlogloss:0.018391\ttest-mlogloss:0.018750\n",
      "[3]\ttrain-mlogloss:0.009309\ttest-mlogloss:0.009783\n"
     ]
    },
    {
     "name": "stdout",
     "output_type": "stream",
     "text": [
      "\n",
      "1.1: 0.727945288264\n"
     ]
    },
    {
     "name": "stderr",
     "output_type": "stream",
     "text": [
      "[4]\ttrain-mlogloss:0.006310\ttest-mlogloss:0.006898\n"
     ]
    }
   ],
   "source": [
    "hp_search('lambda', [1, 1.05, 1.1])"
   ]
  },
  {
   "cell_type": "code",
   "execution_count": 64,
   "metadata": {
    "collapsed": false
   },
   "outputs": [
    {
     "name": "stderr",
     "output_type": "stream",
     "text": [
      "[0]\ttrain-mlogloss:0.128663\ttest-mlogloss:0.128803\n",
      "[1]\ttrain-mlogloss:0.045104\ttest-mlogloss:0.045339\n",
      "[2]\ttrain-mlogloss:0.018412\ttest-mlogloss:0.018742\n",
      "[3]\ttrain-mlogloss:0.009348\ttest-mlogloss:0.009773\n",
      "[4]\ttrain-mlogloss:0.006376\ttest-mlogloss:0.006898\n",
      "[0]\ttrain-mlogloss:0.128658\ttest-mlogloss:0.128803\n",
      "[1]\ttrain-mlogloss:0.045085\ttest-mlogloss:0.045341\n",
      "[2]\ttrain-mlogloss:0.018366\ttest-mlogloss:0.018767\n",
      "[3]\ttrain-mlogloss:0.009257\ttest-mlogloss:0.009829\n",
      "[4]\ttrain-mlogloss:0.006240\ttest-mlogloss:0.006933\n"
     ]
    },
    {
     "name": "stdout",
     "output_type": "stream",
     "text": [
      "5: 0.689974494071\n",
      "7: 0.728555303556"
     ]
    },
    {
     "name": "stderr",
     "output_type": "stream",
     "text": [
      "[0]\ttrain-mlogloss:0.128653\ttest-mlogloss:0.128808\n",
      "[1]\ttrain-mlogloss:0.045051\ttest-mlogloss:0.045366\n",
      "[2]\ttrain-mlogloss:0.018289\ttest-mlogloss:0.018794\n",
      "[3]\ttrain-mlogloss:0.009105\ttest-mlogloss:0.009898\n"
     ]
    },
    {
     "name": "stdout",
     "output_type": "stream",
     "text": [
      "\n",
      "10: 0.728756504411\n"
     ]
    },
    {
     "name": "stderr",
     "output_type": "stream",
     "text": [
      "[4]\ttrain-mlogloss:0.005964\ttest-mlogloss:0.007026\n"
     ]
    }
   ],
   "source": [
    "hp_search('max_depth',[5,7,10])"
   ]
  },
  {
   "cell_type": "code",
   "execution_count": 68,
   "metadata": {
    "collapsed": false
   },
   "outputs": [
    {
     "name": "stderr",
     "output_type": "stream",
     "text": [
      "[0]\ttrain-mlogloss:0.128664\ttest-mlogloss:0.128801\n",
      "[1]\ttrain-mlogloss:0.045111\ttest-mlogloss:0.045329\n",
      "[2]\ttrain-mlogloss:0.018428\ttest-mlogloss:0.018726\n",
      "[3]\ttrain-mlogloss:0.009364\ttest-mlogloss:0.009743\n",
      "[4]\ttrain-mlogloss:0.006373\ttest-mlogloss:0.006844\n",
      "[0]\ttrain-mlogloss:0.128664\ttest-mlogloss:0.128802\n",
      "[1]\ttrain-mlogloss:0.045116\ttest-mlogloss:0.045332\n",
      "[2]\ttrain-mlogloss:0.018437\ttest-mlogloss:0.018724\n",
      "[3]\ttrain-mlogloss:0.009378\ttest-mlogloss:0.009742\n",
      "[4]\ttrain-mlogloss:0.006394\ttest-mlogloss:0.006844\n"
     ]
    },
    {
     "name": "stdout",
     "output_type": "stream",
     "text": [
      "60: 0.741761011201\n",
      "100: 0.741141129836\n"
     ]
    }
   ],
   "source": [
    "hp_search('min_child_weight',[60,100])"
   ]
  },
  {
   "cell_type": "code",
   "execution_count": 69,
   "metadata": {
    "collapsed": false
   },
   "outputs": [
    {
     "name": "stderr",
     "output_type": "stream",
     "text": [
      "[0]\ttrain-mlogloss:0.128664\ttest-mlogloss:0.128801\n",
      "[1]\ttrain-mlogloss:0.045111\ttest-mlogloss:0.045329\n",
      "[2]\ttrain-mlogloss:0.018428\ttest-mlogloss:0.018726\n",
      "[3]\ttrain-mlogloss:0.009364\ttest-mlogloss:0.009743\n",
      "[4]\ttrain-mlogloss:0.006373\ttest-mlogloss:0.006844\n",
      "[5]\ttrain-mlogloss:0.005475\ttest-mlogloss:0.006030\n",
      "[0]\ttrain-mlogloss:0.128664\ttest-mlogloss:0.128801\n",
      "[1]\ttrain-mlogloss:0.045111\ttest-mlogloss:0.045329\n",
      "[2]\ttrain-mlogloss:0.018428\ttest-mlogloss:0.018726\n",
      "[3]\ttrain-mlogloss:0.009364\ttest-mlogloss:0.009743\n",
      "[4]\ttrain-mlogloss:0.006373\ttest-mlogloss:0.006844\n",
      "[5]\ttrain-mlogloss:0.005475\ttest-mlogloss:0.006030\n",
      "[6]\ttrain-mlogloss:0.005241\ttest-mlogloss:0.005909\n",
      "[7]\ttrain-mlogloss:0.005159\ttest-mlogloss:0.005881\n"
     ]
    },
    {
     "name": "stdout",
     "output_type": "stream",
     "text": [
      "6: 0.740584498072\n",
      "8: 0.729416090876"
     ]
    },
    {
     "name": "stderr",
     "output_type": "stream",
     "text": [
      "[0]\ttrain-mlogloss:0.128664\ttest-mlogloss:0.128801\n",
      "[1]\ttrain-mlogloss:0.045111\ttest-mlogloss:0.045329\n",
      "[2]\ttrain-mlogloss:0.018428\ttest-mlogloss:0.018726\n",
      "[3]\ttrain-mlogloss:0.009364\ttest-mlogloss:0.009743\n",
      "[4]\ttrain-mlogloss:0.006373\ttest-mlogloss:0.006844\n",
      "[5]\ttrain-mlogloss:0.005475\ttest-mlogloss:0.006030\n",
      "[6]\ttrain-mlogloss:0.005241\ttest-mlogloss:0.005909\n",
      "[7]\ttrain-mlogloss:0.005159\ttest-mlogloss:0.005881\n",
      "[8]\ttrain-mlogloss:0.005121\ttest-mlogloss:0.005905\n",
      "[9]\ttrain-mlogloss:0.005098\ttest-mlogloss:0.005929\n"
     ]
    },
    {
     "name": "stdout",
     "output_type": "stream",
     "text": [
      "\n",
      "10: 0.722389062504\n"
     ]
    }
   ],
   "source": [
    "for num_round in [6, 8, 10]:\n",
    "    scores={}\n",
    "    bst = xgb.train(param, xg_train, num_round, evals=watchlist)\n",
    "    xgbpred_sample_test = bst.predict(xg_test)\n",
    "    score=metrics.roc_auc_score(test_Y, xgbpred_sample_test.T[1])\n",
    "    scores[num_round]=score\n",
    "    print(str(num_round)+': '+str(score))\n",
    "num_round=max(scores, key=scores.get)"
   ]
  },
  {
   "cell_type": "code",
   "execution_count": 73,
   "metadata": {
    "collapsed": false,
    "scrolled": true
   },
   "outputs": [
    {
     "name": "stderr",
     "output_type": "stream",
     "text": [
      "[0]\ttrain-error:0.000708\ttest-error:0.000777\n"
     ]
    }
   ],
   "source": [
    "param2 = {\n",
    "    'booster': 'gblinear',\n",
    "    'objective': 'binary:logistic',\n",
    "    'nthread': 3,\n",
    "    'lambda': 1.1,\n",
    "}\n",
    "num_round=1\n",
    "bst = xgb.train(param2, xg_train, num_round, evals=watchlist)\n",
    "xgbpred_sample_test = bst.predict(xg_test)\n"
   ]
  },
  {
   "cell_type": "code",
   "execution_count": 75,
   "metadata": {
    "collapsed": false
   },
   "outputs": [
    {
     "data": {
      "text/plain": [
       "0.62523794833888735"
      ]
     },
     "execution_count": 75,
     "metadata": {},
     "output_type": "execute_result"
    }
   ],
   "source": [
    "score=metrics.roc_auc_score(test_Y, xgbpred_sample_test)\n",
    "score"
   ]
  },
  {
   "cell_type": "markdown",
   "metadata": {},
   "source": [
    "Final model"
   ]
  },
  {
   "cell_type": "code",
   "execution_count": 19,
   "metadata": {
    "collapsed": true
   },
   "outputs": [],
   "source": [
    "num_round = 6 # apply the best num_round value\n",
    "param['eta'] = 1\n",
    "param['lambda'] =1.05\n",
    "param['max_depth'] =10\n",
    "param['min_child_weight']=60"
   ]
  },
  {
   "cell_type": "markdown",
   "metadata": {},
   "source": [
    "Model performance on validation set"
   ]
  },
  {
   "cell_type": "code",
   "execution_count": 26,
   "metadata": {
    "collapsed": false
   },
   "outputs": [
    {
     "name": "stderr",
     "output_type": "stream",
     "text": [
      "[0]\ttrain-mlogloss:0.128664\ttest-mlogloss:0.128801\n",
      "[1]\ttrain-mlogloss:0.045111\ttest-mlogloss:0.045329\n",
      "[2]\ttrain-mlogloss:0.018429\ttest-mlogloss:0.018725\n",
      "[3]\ttrain-mlogloss:0.009367\ttest-mlogloss:0.009741\n",
      "[4]\ttrain-mlogloss:0.006376\ttest-mlogloss:0.006843\n",
      "[5]\ttrain-mlogloss:0.005481\ttest-mlogloss:0.006029\n",
      "[6]\ttrain-mlogloss:0.005251\ttest-mlogloss:0.005910\n",
      "[7]\ttrain-mlogloss:0.005171\ttest-mlogloss:0.005867\n"
     ]
    },
    {
     "data": {
      "text/plain": [
       "0.73647313116409496"
      ]
     },
     "execution_count": 26,
     "metadata": {},
     "output_type": "execute_result"
    }
   ],
   "source": [
    "bst = xgb.train(param, xg_train, num_round, evals=watchlist)\n",
    "xgbpred_sample_test = bst.predict(xg_test)\n",
    "score=metrics.roc_auc_score(test_Y, xgbpred_sample_test.T[1])\n",
    "score"
   ]
  },
  {
   "cell_type": "markdown",
   "metadata": {},
   "source": [
    "Train on all of the data"
   ]
  },
  {
   "cell_type": "code",
   "execution_count": 17,
   "metadata": {
    "collapsed": true
   },
   "outputs": [],
   "source": [
    "full_xg_train = xgb.DMatrix(dataX, label=dataY, feature_names=dataX.columns) #"
   ]
  },
  {
   "cell_type": "code",
   "execution_count": 27,
   "metadata": {
    "collapsed": false
   },
   "outputs": [
    {
     "name": "stderr",
     "output_type": "stream",
     "text": [
      "[0]\ttrain-mlogloss:0.128672\ttest-mlogloss:0.128809\n",
      "[1]\ttrain-mlogloss:0.045119\ttest-mlogloss:0.045330\n",
      "[2]\ttrain-mlogloss:0.018437\ttest-mlogloss:0.018712\n",
      "[3]\ttrain-mlogloss:0.009374\ttest-mlogloss:0.009713\n",
      "[4]\ttrain-mlogloss:0.006385\ttest-mlogloss:0.006774\n",
      "[5]\ttrain-mlogloss:0.005487\ttest-mlogloss:0.005917\n",
      "[6]\ttrain-mlogloss:0.005246\ttest-mlogloss:0.005693\n",
      "[7]\ttrain-mlogloss:0.005170\ttest-mlogloss:0.005616\n"
     ]
    }
   ],
   "source": [
    "bst = xgb.train(param, full_xg_train, num_round, evals=watchlist)"
   ]
  },
  {
   "cell_type": "code",
   "execution_count": 21,
   "metadata": {
    "collapsed": false,
    "scrolled": true
   },
   "outputs": [
    {
     "data": {
      "text/plain": [
       "{'ad_exchange': 4,\n",
       " 'area': 28,\n",
       " 'browser': 34,\n",
       " 'city': 92,\n",
       " 'cost_per_area': 32,\n",
       " 'creative_id': 16,\n",
       " 'format': 16,\n",
       " 'height': 6,\n",
       " 'hour': 76,\n",
       " 'price': 56,\n",
       " 'sys': 40,\n",
       " 'td': 52,\n",
       " 'user_tags_0': 98,\n",
       " 'user_tags_1': 68,\n",
       " 'user_tags_2': 90,\n",
       " 'user_tags_3': 56,\n",
       " 'user_tags_4': 40,\n",
       " 'visibility': 36,\n",
       " 'weekday': 32,\n",
       " 'width': 10}"
      ]
     },
     "execution_count": 21,
     "metadata": {},
     "output_type": "execute_result"
    }
   ],
   "source": [
    "bst.get_fscore()"
   ]
  },
  {
   "cell_type": "code",
   "execution_count": 28,
   "metadata": {
    "collapsed": false
   },
   "outputs": [],
   "source": [
    "xgbpred_train = bst.predict(full_xg_train)"
   ]
  },
  {
   "cell_type": "code",
   "execution_count": 23,
   "metadata": {
    "collapsed": false
   },
   "outputs": [
    {
     "data": {
      "text/plain": [
       "0.81313437018811985"
      ]
     },
     "execution_count": 23,
     "metadata": {},
     "output_type": "execute_result"
    }
   ],
   "source": [
    "metrics.roc_auc_score(dataY, xgbpred_train.T[1]) #auc on train"
   ]
  },
  {
   "cell_type": "code",
   "execution_count": 29,
   "metadata": {
    "collapsed": true
   },
   "outputs": [],
   "source": [
    "bst.save_model(\"xgb.model\")"
   ]
  },
  {
   "cell_type": "code",
   "execution_count": 30,
   "metadata": {
    "collapsed": false
   },
   "outputs": [],
   "source": [
    "xgbpred_test = bst.predict(full_xg_test)"
   ]
  },
  {
   "cell_type": "code",
   "execution_count": 31,
   "metadata": {
    "collapsed": false
   },
   "outputs": [],
   "source": [
    "dummy_pred = pd.DataFrame({'Id':np.arange(1,545422),'Prediction':xgbpred_test.T[1]})\n",
    "dummy_pred.to_csv('pred_final.csv',index=False)"
   ]
  }
 ],
 "metadata": {
  "kernelspec": {
   "display_name": "Python 3",
   "language": "python",
   "name": "python3"
  },
  "language_info": {
   "codemirror_mode": {
    "name": "ipython",
    "version": 3
   },
   "file_extension": ".py",
   "mimetype": "text/x-python",
   "name": "python",
   "nbconvert_exporter": "python",
   "pygments_lexer": "ipython3",
   "version": "3.5.1"
  }
 },
 "nbformat": 4,
 "nbformat_minor": 0
}
