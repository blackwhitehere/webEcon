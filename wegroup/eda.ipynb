{
 "cells": [
  {
   "cell_type": "code",
   "execution_count": 30,
   "metadata": {
    "collapsed": true
   },
   "outputs": [],
   "source": [
    "import matplotlib.pyplot as plt\n",
    "plt.style.use('ggplot')\n",
    "import pandas as pd\n",
    "import numpy as np\n",
    "from sklearn import preprocessing\n",
    "%matplotlib inline"
   ]
  },
  {
   "cell_type": "code",
   "execution_count": 2,
   "metadata": {
    "collapsed": false
   },
   "outputs": [],
   "source": [
    "import utility as u\n",
    "\n",
    "train_file = \"data_train.txt\"\n",
    "test_file = \"shuffle_data_test.txt\"\n",
    "data_folder = 'data'\n",
    "columns = ['click', 'weekday', 'hour', 'timestamp', 'log_type', 'user_id', 'user_agent', 'ip', 'region', 'city',\n",
    "           'ad_exchange', 'domain', 'url', 'anon_url_id', 'ad_slot_id', 'width', 'height', 'visibility', 'format',\n",
    "           'price', 'creative_id', 'key_page_url', 'advertiser_id', 'user_tags']\n",
    "\n",
    "train, test = u.import_tr_te(train_file, test_file, columns, data_folder)"
   ]
  },
  {
   "cell_type": "code",
   "execution_count": 3,
   "metadata": {
    "collapsed": false
   },
   "outputs": [
    {
     "data": {
      "text/html": [
       "<div>\n",
       "<table border=\"1\" class=\"dataframe\">\n",
       "  <thead>\n",
       "    <tr style=\"text-align: right;\">\n",
       "      <th></th>\n",
       "      <th>click</th>\n",
       "      <th>weekday</th>\n",
       "      <th>hour</th>\n",
       "      <th>timestamp</th>\n",
       "      <th>log_type</th>\n",
       "      <th>user_id</th>\n",
       "      <th>user_agent</th>\n",
       "      <th>ip</th>\n",
       "      <th>region</th>\n",
       "      <th>city</th>\n",
       "      <th>...</th>\n",
       "      <th>ad_slot_id</th>\n",
       "      <th>width</th>\n",
       "      <th>height</th>\n",
       "      <th>visibility</th>\n",
       "      <th>format</th>\n",
       "      <th>price</th>\n",
       "      <th>creative_id</th>\n",
       "      <th>key_page_url</th>\n",
       "      <th>advertiser_id</th>\n",
       "      <th>user_tags</th>\n",
       "    </tr>\n",
       "  </thead>\n",
       "  <tbody>\n",
       "    <tr>\n",
       "      <th>0</th>\n",
       "      <td>0</td>\n",
       "      <td>6</td>\n",
       "      <td>0</td>\n",
       "      <td>20130606000104308</td>\n",
       "      <td>1</td>\n",
       "      <td>VhT3La5uDlaywOj</td>\n",
       "      <td>windows_chrome</td>\n",
       "      <td>122.233.40.*</td>\n",
       "      <td>94</td>\n",
       "      <td>95</td>\n",
       "      <td>...</td>\n",
       "      <td>mm_10058411_2865562_9929053</td>\n",
       "      <td>300</td>\n",
       "      <td>250</td>\n",
       "      <td>2</td>\n",
       "      <td>1</td>\n",
       "      <td>0</td>\n",
       "      <td>44966cc8da1ed40c95d59e863c8c75f0</td>\n",
       "      <td>361e128affece850342293213691a043</td>\n",
       "      <td>3386</td>\n",
       "      <td>10057,10063,10024,13800,13866,10110</td>\n",
       "    </tr>\n",
       "    <tr>\n",
       "      <th>1</th>\n",
       "      <td>0</td>\n",
       "      <td>6</td>\n",
       "      <td>0</td>\n",
       "      <td>20130606000104371</td>\n",
       "      <td>1</td>\n",
       "      <td>Vhk0Z35ULqFcBZc</td>\n",
       "      <td>windows_ie</td>\n",
       "      <td>180.107.223.*</td>\n",
       "      <td>80</td>\n",
       "      <td>85</td>\n",
       "      <td>...</td>\n",
       "      <td>4017603800</td>\n",
       "      <td>336</td>\n",
       "      <td>280</td>\n",
       "      <td>2</td>\n",
       "      <td>0</td>\n",
       "      <td>5</td>\n",
       "      <td>ff5123fb9333ca095034c62fdaaf51aa</td>\n",
       "      <td>361e128affece850342293213691a043</td>\n",
       "      <td>3386</td>\n",
       "      <td>10063,10059,13776,10111</td>\n",
       "    </tr>\n",
       "    <tr>\n",
       "      <th>2</th>\n",
       "      <td>0</td>\n",
       "      <td>6</td>\n",
       "      <td>0</td>\n",
       "      <td>20130606000104420</td>\n",
       "      <td>1</td>\n",
       "      <td>Vhk7ZAnxPcKOjCb</td>\n",
       "      <td>windows_ie</td>\n",
       "      <td>111.120.123.*</td>\n",
       "      <td>298</td>\n",
       "      <td>299</td>\n",
       "      <td>...</td>\n",
       "      <td>2141208056</td>\n",
       "      <td>250</td>\n",
       "      <td>250</td>\n",
       "      <td>2</td>\n",
       "      <td>0</td>\n",
       "      <td>5</td>\n",
       "      <td>7097e4210dea4d69f07f0f5e4343529c</td>\n",
       "      <td>361e128affece850342293213691a043</td>\n",
       "      <td>3386</td>\n",
       "      <td>10063,10111</td>\n",
       "    </tr>\n",
       "    <tr>\n",
       "      <th>3</th>\n",
       "      <td>0</td>\n",
       "      <td>6</td>\n",
       "      <td>0</td>\n",
       "      <td>20130606000104436</td>\n",
       "      <td>1</td>\n",
       "      <td>VhkY1nFEPlkyeIC</td>\n",
       "      <td>windows_ie</td>\n",
       "      <td>112.95.93.*</td>\n",
       "      <td>216</td>\n",
       "      <td>219</td>\n",
       "      <td>...</td>\n",
       "      <td>415540879</td>\n",
       "      <td>250</td>\n",
       "      <td>250</td>\n",
       "      <td>2</td>\n",
       "      <td>0</td>\n",
       "      <td>5</td>\n",
       "      <td>7097e4210dea4d69f07f0f5e4343529c</td>\n",
       "      <td>361e128affece850342293213691a043</td>\n",
       "      <td>3386</td>\n",
       "      <td>10048</td>\n",
       "    </tr>\n",
       "    <tr>\n",
       "      <th>4</th>\n",
       "      <td>0</td>\n",
       "      <td>6</td>\n",
       "      <td>0</td>\n",
       "      <td>20130606000104450</td>\n",
       "      <td>1</td>\n",
       "      <td>VhLrOxuUPqd63CL</td>\n",
       "      <td>windows_chrome</td>\n",
       "      <td>113.200.249.*</td>\n",
       "      <td>333</td>\n",
       "      <td>334</td>\n",
       "      <td>...</td>\n",
       "      <td>2811067692</td>\n",
       "      <td>250</td>\n",
       "      <td>250</td>\n",
       "      <td>2</td>\n",
       "      <td>0</td>\n",
       "      <td>5</td>\n",
       "      <td>7097e4210dea4d69f07f0f5e4343529c</td>\n",
       "      <td>361e128affece850342293213691a043</td>\n",
       "      <td>3386</td>\n",
       "      <td>10006,10057,14273</td>\n",
       "    </tr>\n",
       "  </tbody>\n",
       "</table>\n",
       "<p>5 rows × 24 columns</p>\n",
       "</div>"
      ],
      "text/plain": [
       "   click  weekday  hour          timestamp  log_type          user_id  \\\n",
       "0      0        6     0  20130606000104308         1  VhT3La5uDlaywOj   \n",
       "1      0        6     0  20130606000104371         1  Vhk0Z35ULqFcBZc   \n",
       "2      0        6     0  20130606000104420         1  Vhk7ZAnxPcKOjCb   \n",
       "3      0        6     0  20130606000104436         1  VhkY1nFEPlkyeIC   \n",
       "4      0        6     0  20130606000104450         1  VhLrOxuUPqd63CL   \n",
       "\n",
       "       user_agent             ip  region  city  \\\n",
       "0  windows_chrome   122.233.40.*      94    95   \n",
       "1      windows_ie  180.107.223.*      80    85   \n",
       "2      windows_ie  111.120.123.*     298   299   \n",
       "3      windows_ie    112.95.93.*     216   219   \n",
       "4  windows_chrome  113.200.249.*     333   334   \n",
       "\n",
       "                  ...                                    ad_slot_id width  \\\n",
       "0                 ...                   mm_10058411_2865562_9929053   300   \n",
       "1                 ...                                    4017603800   336   \n",
       "2                 ...                                    2141208056   250   \n",
       "3                 ...                                     415540879   250   \n",
       "4                 ...                                    2811067692   250   \n",
       "\n",
       "  height visibility format  price                       creative_id  \\\n",
       "0    250          2      1      0  44966cc8da1ed40c95d59e863c8c75f0   \n",
       "1    280          2      0      5  ff5123fb9333ca095034c62fdaaf51aa   \n",
       "2    250          2      0      5  7097e4210dea4d69f07f0f5e4343529c   \n",
       "3    250          2      0      5  7097e4210dea4d69f07f0f5e4343529c   \n",
       "4    250          2      0      5  7097e4210dea4d69f07f0f5e4343529c   \n",
       "\n",
       "                       key_page_url  advertiser_id  \\\n",
       "0  361e128affece850342293213691a043           3386   \n",
       "1  361e128affece850342293213691a043           3386   \n",
       "2  361e128affece850342293213691a043           3386   \n",
       "3  361e128affece850342293213691a043           3386   \n",
       "4  361e128affece850342293213691a043           3386   \n",
       "\n",
       "                             user_tags  \n",
       "0  10057,10063,10024,13800,13866,10110  \n",
       "1              10063,10059,13776,10111  \n",
       "2                          10063,10111  \n",
       "3                                10048  \n",
       "4                    10006,10057,14273  \n",
       "\n",
       "[5 rows x 24 columns]"
      ]
     },
     "execution_count": 3,
     "metadata": {},
     "output_type": "execute_result"
    }
   ],
   "source": [
    "train.head()"
   ]
  },
  {
   "cell_type": "code",
   "execution_count": 5,
   "metadata": {
    "collapsed": false
   },
   "outputs": [
    {
     "data": {
      "text/plain": [
       "(2847802, 24)"
      ]
     },
     "execution_count": 5,
     "metadata": {},
     "output_type": "execute_result"
    }
   ],
   "source": [
    "train.shape"
   ]
  },
  {
   "cell_type": "code",
   "execution_count": 16,
   "metadata": {
    "collapsed": false
   },
   "outputs": [
    {
     "data": {
      "text/html": [
       "<div>\n",
       "<table border=\"1\" class=\"dataframe\">\n",
       "  <thead>\n",
       "    <tr style=\"text-align: right;\">\n",
       "      <th></th>\n",
       "      <th>click</th>\n",
       "      <th>weekday</th>\n",
       "      <th>hour</th>\n",
       "      <th>timestamp</th>\n",
       "      <th>log_type</th>\n",
       "      <th>region</th>\n",
       "      <th>city</th>\n",
       "      <th>ad_exchange</th>\n",
       "      <th>width</th>\n",
       "      <th>height</th>\n",
       "      <th>visibility</th>\n",
       "      <th>format</th>\n",
       "      <th>price</th>\n",
       "      <th>advertiser_id</th>\n",
       "    </tr>\n",
       "  </thead>\n",
       "  <tbody>\n",
       "    <tr>\n",
       "      <th>count</th>\n",
       "      <td>2847802.000000</td>\n",
       "      <td>2847802.000000</td>\n",
       "      <td>2847802.000000</td>\n",
       "      <td>2.847802e+06</td>\n",
       "      <td>2847802</td>\n",
       "      <td>2847802.000000</td>\n",
       "      <td>2847802.000000</td>\n",
       "      <td>2847802.000000</td>\n",
       "      <td>2847802.000000</td>\n",
       "      <td>2847802.000000</td>\n",
       "      <td>2847802.000000</td>\n",
       "      <td>2847802.000000</td>\n",
       "      <td>2847802.000000</td>\n",
       "      <td>2847802</td>\n",
       "    </tr>\n",
       "    <tr>\n",
       "      <th>mean</th>\n",
       "      <td>0.000729</td>\n",
       "      <td>3.005293</td>\n",
       "      <td>13.788004</td>\n",
       "      <td>2.013061e+16</td>\n",
       "      <td>1</td>\n",
       "      <td>145.166020</td>\n",
       "      <td>150.065017</td>\n",
       "      <td>2.198610</td>\n",
       "      <td>580.746215</td>\n",
       "      <td>183.571554</td>\n",
       "      <td>2.243363</td>\n",
       "      <td>0.277444</td>\n",
       "      <td>29.441337</td>\n",
       "      <td>3386</td>\n",
       "    </tr>\n",
       "    <tr>\n",
       "      <th>std</th>\n",
       "      <td>0.026990</td>\n",
       "      <td>2.037767</td>\n",
       "      <td>6.625501</td>\n",
       "      <td>2.021288e+09</td>\n",
       "      <td>0</td>\n",
       "      <td>103.819625</td>\n",
       "      <td>105.043981</td>\n",
       "      <td>0.793964</td>\n",
       "      <td>320.683441</td>\n",
       "      <td>120.106046</td>\n",
       "      <td>19.892124</td>\n",
       "      <td>0.640043</td>\n",
       "      <td>36.785039</td>\n",
       "      <td>0</td>\n",
       "    </tr>\n",
       "    <tr>\n",
       "      <th>min</th>\n",
       "      <td>0.000000</td>\n",
       "      <td>0.000000</td>\n",
       "      <td>0.000000</td>\n",
       "      <td>2.013061e+16</td>\n",
       "      <td>1</td>\n",
       "      <td>0.000000</td>\n",
       "      <td>0.000000</td>\n",
       "      <td>1.000000</td>\n",
       "      <td>120.000000</td>\n",
       "      <td>60.000000</td>\n",
       "      <td>0.000000</td>\n",
       "      <td>0.000000</td>\n",
       "      <td>0.000000</td>\n",
       "      <td>3386</td>\n",
       "    </tr>\n",
       "    <tr>\n",
       "      <th>25%</th>\n",
       "      <td>0.000000</td>\n",
       "      <td>1.000000</td>\n",
       "      <td>10.000000</td>\n",
       "      <td>2.013061e+16</td>\n",
       "      <td>1</td>\n",
       "      <td>65.000000</td>\n",
       "      <td>75.000000</td>\n",
       "      <td>2.000000</td>\n",
       "      <td>300.000000</td>\n",
       "      <td>90.000000</td>\n",
       "      <td>0.000000</td>\n",
       "      <td>0.000000</td>\n",
       "      <td>4.000000</td>\n",
       "      <td>3386</td>\n",
       "    </tr>\n",
       "    <tr>\n",
       "      <th>50%</th>\n",
       "      <td>0.000000</td>\n",
       "      <td>3.000000</td>\n",
       "      <td>15.000000</td>\n",
       "      <td>2.013061e+16</td>\n",
       "      <td>1</td>\n",
       "      <td>146.000000</td>\n",
       "      <td>146.000000</td>\n",
       "      <td>2.000000</td>\n",
       "      <td>468.000000</td>\n",
       "      <td>90.000000</td>\n",
       "      <td>0.000000</td>\n",
       "      <td>0.000000</td>\n",
       "      <td>10.000000</td>\n",
       "      <td>3386</td>\n",
       "    </tr>\n",
       "    <tr>\n",
       "      <th>75%</th>\n",
       "      <td>0.000000</td>\n",
       "      <td>5.000000</td>\n",
       "      <td>19.000000</td>\n",
       "      <td>2.013061e+16</td>\n",
       "      <td>1</td>\n",
       "      <td>216.000000</td>\n",
       "      <td>221.000000</td>\n",
       "      <td>3.000000</td>\n",
       "      <td>1000.000000</td>\n",
       "      <td>250.000000</td>\n",
       "      <td>2.000000</td>\n",
       "      <td>0.000000</td>\n",
       "      <td>50.000000</td>\n",
       "      <td>3386</td>\n",
       "    </tr>\n",
       "    <tr>\n",
       "      <th>max</th>\n",
       "      <td>1.000000</td>\n",
       "      <td>6.000000</td>\n",
       "      <td>23.000000</td>\n",
       "      <td>2.013061e+16</td>\n",
       "      <td>1</td>\n",
       "      <td>395.000000</td>\n",
       "      <td>399.000000</td>\n",
       "      <td>3.000000</td>\n",
       "      <td>1000.000000</td>\n",
       "      <td>600.000000</td>\n",
       "      <td>255.000000</td>\n",
       "      <td>5.000000</td>\n",
       "      <td>300.000000</td>\n",
       "      <td>3386</td>\n",
       "    </tr>\n",
       "  </tbody>\n",
       "</table>\n",
       "</div>"
      ],
      "text/plain": [
       "                click         weekday            hour     timestamp  log_type  \\\n",
       "count  2847802.000000  2847802.000000  2847802.000000  2.847802e+06   2847802   \n",
       "mean         0.000729        3.005293       13.788004  2.013061e+16         1   \n",
       "std          0.026990        2.037767        6.625501  2.021288e+09         0   \n",
       "min          0.000000        0.000000        0.000000  2.013061e+16         1   \n",
       "25%          0.000000        1.000000       10.000000  2.013061e+16         1   \n",
       "50%          0.000000        3.000000       15.000000  2.013061e+16         1   \n",
       "75%          0.000000        5.000000       19.000000  2.013061e+16         1   \n",
       "max          1.000000        6.000000       23.000000  2.013061e+16         1   \n",
       "\n",
       "               region            city     ad_exchange           width  \\\n",
       "count  2847802.000000  2847802.000000  2847802.000000  2847802.000000   \n",
       "mean       145.166020      150.065017        2.198610      580.746215   \n",
       "std        103.819625      105.043981        0.793964      320.683441   \n",
       "min          0.000000        0.000000        1.000000      120.000000   \n",
       "25%         65.000000       75.000000        2.000000      300.000000   \n",
       "50%        146.000000      146.000000        2.000000      468.000000   \n",
       "75%        216.000000      221.000000        3.000000     1000.000000   \n",
       "max        395.000000      399.000000        3.000000     1000.000000   \n",
       "\n",
       "               height      visibility          format           price  \\\n",
       "count  2847802.000000  2847802.000000  2847802.000000  2847802.000000   \n",
       "mean       183.571554        2.243363        0.277444       29.441337   \n",
       "std        120.106046       19.892124        0.640043       36.785039   \n",
       "min         60.000000        0.000000        0.000000        0.000000   \n",
       "25%         90.000000        0.000000        0.000000        4.000000   \n",
       "50%         90.000000        0.000000        0.000000       10.000000   \n",
       "75%        250.000000        2.000000        0.000000       50.000000   \n",
       "max        600.000000      255.000000        5.000000      300.000000   \n",
       "\n",
       "       advertiser_id  \n",
       "count        2847802  \n",
       "mean            3386  \n",
       "std                0  \n",
       "min             3386  \n",
       "25%             3386  \n",
       "50%             3386  \n",
       "75%             3386  \n",
       "max             3386  "
      ]
     },
     "execution_count": 16,
     "metadata": {},
     "output_type": "execute_result"
    }
   ],
   "source": [
    "train.describe()"
   ]
  },
  {
   "cell_type": "code",
   "execution_count": 3,
   "metadata": {
    "collapsed": false,
    "scrolled": true
   },
   "outputs": [
    {
     "name": "stdout",
     "output_type": "stream",
     "text": [
      "click : \n",
      "2\n",
      "weekday : \n",
      "7\n",
      "hour : \n",
      "24\n",
      "timestamp : \n",
      "2434838\n",
      "log_type : \n",
      "1\n",
      "user_id : \n",
      "2641292\n",
      "user_agent : \n",
      "36\n",
      "ip : \n",
      "489690\n",
      "region : \n",
      "35\n",
      "city : \n",
      "370\n",
      "ad_exchange : \n",
      "3\n",
      "domain : \n",
      "15146\n",
      "url : \n",
      "715316\n",
      "anon_url_id : \n",
      "1\n",
      "ad_slot_id : \n",
      "51529\n",
      "width : \n",
      "11\n",
      "height : \n",
      "6\n",
      "visibility : \n",
      "4\n",
      "format : \n",
      "3\n",
      "price : \n",
      "197\n",
      "creative_id : \n",
      "11\n",
      "key_page_url : \n",
      "2\n",
      "advertiser_id : \n",
      "1\n",
      "user_tags : \n",
      "720665\n"
     ]
    }
   ],
   "source": [
    "# count unique values in each column\n",
    "for c in train.columns:\n",
    "    print(c+\" : \")\n",
    "    print(len(train[c].unique()))"
   ]
  },
  {
   "cell_type": "markdown",
   "metadata": {},
   "source": [
    "Bad features"
   ]
  },
  {
   "cell_type": "code",
   "execution_count": 27,
   "metadata": {
    "collapsed": false
   },
   "outputs": [
    {
     "data": {
      "text/plain": [
       "null    2847802\n",
       "Name: anon_url_id, dtype: int64"
      ]
     },
     "execution_count": 27,
     "metadata": {},
     "output_type": "execute_result"
    }
   ],
   "source": [
    "train['anon_url_id'].value_counts()"
   ]
  },
  {
   "cell_type": "code",
   "execution_count": 41,
   "metadata": {
    "collapsed": false
   },
   "outputs": [
    {
     "data": {
      "text/plain": [
       "1    2847802\n",
       "Name: log_type, dtype: int64"
      ]
     },
     "execution_count": 41,
     "metadata": {},
     "output_type": "execute_result"
    }
   ],
   "source": [
    "train['log_type'].value_counts()"
   ]
  },
  {
   "cell_type": "code",
   "execution_count": 42,
   "metadata": {
    "collapsed": false
   },
   "outputs": [
    {
     "data": {
      "text/plain": [
       "3386    2847802\n",
       "Name: advertiser_id, dtype: int64"
      ]
     },
     "execution_count": 42,
     "metadata": {},
     "output_type": "execute_result"
    }
   ],
   "source": [
    "train['advertiser_id'].value_counts()"
   ]
  },
  {
   "cell_type": "markdown",
   "metadata": {},
   "source": [
    "Non-features (too many levels)"
   ]
  },
  {
   "cell_type": "code",
   "execution_count": 45,
   "metadata": {
    "collapsed": false
   },
   "outputs": [
    {
     "data": {
      "text/plain": [
       "2434838"
      ]
     },
     "execution_count": 45,
     "metadata": {},
     "output_type": "execute_result"
    }
   ],
   "source": [
    "len(train['timestamp'].unique())"
   ]
  },
  {
   "cell_type": "code",
   "execution_count": 44,
   "metadata": {
    "collapsed": false
   },
   "outputs": [
    {
     "data": {
      "text/plain": [
       "2641292"
      ]
     },
     "execution_count": 44,
     "metadata": {},
     "output_type": "execute_result"
    }
   ],
   "source": [
    "len(train['user_id'].unique())"
   ]
  },
  {
   "cell_type": "markdown",
   "metadata": {},
   "source": [
    "#### Frequency featues\n",
    "idea is to assign to each obs a decile in the frequency distribution (mostly would be zeros, but some obs have positive values)"
   ]
  },
  {
   "cell_type": "code",
   "execution_count": 48,
   "metadata": {
    "collapsed": false
   },
   "outputs": [
    {
     "data": {
      "text/plain": [
       "118.122.85.*    3112\n",
       "210.38.1.*      2283\n",
       "180.208.68.*    2224\n",
       "125.39.238.*    2117\n",
       "112.90.90.*     2111\n",
       "Name: ip, dtype: int64"
      ]
     },
     "execution_count": 48,
     "metadata": {},
     "output_type": "execute_result"
    }
   ],
   "source": [
    "train['ip'].value_counts().head()"
   ]
  },
  {
   "cell_type": "code",
   "execution_count": 40,
   "metadata": {
    "collapsed": false
   },
   "outputs": [
    {
     "data": {
      "text/plain": [
       "3a0f55b8ee76da7f0933eec8cdafad72    34835\n",
       "8bb65e4722e3d10bcb59ccba682b1ff1    32485\n",
       "bfa000ed663f4997db218d6da6b1510f    31879\n",
       "b9b27f86cd5409b505b66e27470765af    29671\n",
       "8dd142fa4bc566aa470b4c63e3da3d68    24536\n",
       "Name: url, dtype: int64"
      ]
     },
     "execution_count": 40,
     "metadata": {},
     "output_type": "execute_result"
    }
   ],
   "source": [
    "train['url'].value_counts().head()"
   ]
  },
  {
   "cell_type": "code",
   "execution_count": 49,
   "metadata": {
    "collapsed": false
   },
   "outputs": [
    {
     "data": {
      "text/plain": [
       "5F1RQS9rg5scFsf        315127\n",
       "31xSTvprdN1RFt         211505\n",
       "null                   128990\n",
       "3FKElpuEMusyJqKbuKz    121096\n",
       "ersbQv1RdoTy1m58uG     117071\n",
       "Name: domain, dtype: int64"
      ]
     },
     "execution_count": 49,
     "metadata": {},
     "output_type": "execute_result"
    }
   ],
   "source": [
    "train['domain'].value_counts().head()"
   ]
  },
  {
   "cell_type": "code",
   "execution_count": 51,
   "metadata": {
    "collapsed": false
   },
   "outputs": [
    {
     "data": {
      "text/plain": [
       "50617    317823\n",
       "50702    147789\n",
       "50618     91673\n",
       "50668     71974\n",
       "50669     55921\n",
       "Name: ad_slot_id, dtype: int64"
      ]
     },
     "execution_count": 51,
     "metadata": {},
     "output_type": "execute_result"
    }
   ],
   "source": [
    "train['ad_slot_id'].value_counts().head()"
   ]
  },
  {
   "cell_type": "code",
   "execution_count": 35,
   "metadata": {
    "collapsed": false
   },
   "outputs": [
    {
     "data": {
      "image/png": "[encoded data removed]",
      "text/plain": [
       "<matplotlib.figure.Figure at 0x7fd1c0193198>"
      ]
     },
     "metadata": {},
     "output_type": "display_data"
    }
   ],
   "source": [
    "plt.scatter(u.labelencode(train, 'ad_slot_id'), train['click'])\n",
    "plt.show()"
   ]
  },
  {
   "cell_type": "code",
   "execution_count": 6,
   "metadata": {
    "collapsed": false
   },
   "outputs": [
    {
     "data": {
      "image/png": "[encoded data removed]",
      "text/plain": [
       "<matplotlib.figure.Figure at 0x7fd1c2a6eef0>"
      ]
     },
     "metadata": {},
     "output_type": "display_data"
    }
   ],
   "source": [
    "train['user_id'].value_counts().hist()\n",
    "plt.show()"
   ]
  },
  {
   "cell_type": "code",
   "execution_count": 7,
   "metadata": {
    "collapsed": false
   },
   "outputs": [
    {
     "data": {
      "image/png": "[encoded data removed]",
      "text/plain": [
       "<matplotlib.figure.Figure at 0x7fd1c041c8d0>"
      ]
     },
     "metadata": {},
     "output_type": "display_data"
    }
   ],
   "source": [
    "train['hour'].hist()\n",
    "plt.show()"
   ]
  },
  {
   "cell_type": "code",
   "execution_count": 8,
   "metadata": {
    "collapsed": false
   },
   "outputs": [
    {
     "data": {
      "image/png": "[encoded data removed]",
      "text/plain": [
       "<matplotlib.figure.Figure at 0x7fd1c01efcf8>"
      ]
     },
     "metadata": {},
     "output_type": "display_data"
    }
   ],
   "source": [
    "train['weekday'].hist()\n",
    "plt.show()"
   ]
  },
  {
   "cell_type": "code",
   "execution_count": 9,
   "metadata": {
    "collapsed": false
   },
   "outputs": [
    {
     "data": {
      "image/png": "[encoded data removed]",
      "text/plain": [
       "<matplotlib.figure.Figure at 0x7fd1c04565f8>"
      ]
     },
     "metadata": {},
     "output_type": "display_data"
    }
   ],
   "source": [
    "train['region'].hist()\n",
    "plt.show()"
   ]
  },
  {
   "cell_type": "markdown",
   "metadata": {},
   "source": [
    "Function to visualize dependece between response and a single factor"
   ]
  },
  {
   "cell_type": "code",
   "execution_count": 25,
   "metadata": {
    "collapsed": false,
    "scrolled": true
   },
   "outputs": [
    {
     "name": "stderr",
     "output_type": "stream",
     "text": [
      "/home/stan/Documents/dev/webEcon/wegroup/utility.py:18: FutureWarning: sort(columns=....) is deprecated, use sort_values(by=.....)\n",
      "  ndf = ndf.sort(columns=[1, 0])\n"
     ]
    },
    {
     "data": {
      "image/png": "[encoded data removed]",
      "text/plain": [
       "<matplotlib.figure.Figure at 0x7fd1c019c400>"
      ]
     },
     "metadata": {},
     "output_type": "display_data"
    }
   ],
   "source": [
    "ndf, plot = u.draw_ct(train, \"click\", \"weekday\")"
   ]
  },
  {
   "cell_type": "code",
   "execution_count": 36,
   "metadata": {
    "collapsed": false
   },
   "outputs": [
    {
     "data": {
      "text/html": [
       "<div>\n",
       "<table border=\"1\" class=\"dataframe\">\n",
       "  <thead>\n",
       "    <tr style=\"text-align: right;\">\n",
       "      <th>weekday</th>\n",
       "      <th>0</th>\n",
       "      <th>1</th>\n",
       "      <th>2</th>\n",
       "      <th>3</th>\n",
       "      <th>4</th>\n",
       "      <th>5</th>\n",
       "      <th>6</th>\n",
       "    </tr>\n",
       "    <tr>\n",
       "      <th>click</th>\n",
       "      <th></th>\n",
       "      <th></th>\n",
       "      <th></th>\n",
       "      <th></th>\n",
       "      <th></th>\n",
       "      <th></th>\n",
       "      <th></th>\n",
       "    </tr>\n",
       "  </thead>\n",
       "  <tbody>\n",
       "    <tr>\n",
       "      <th>1</th>\n",
       "      <td>0.137765</td>\n",
       "      <td>0.124759</td>\n",
       "      <td>0.130058</td>\n",
       "      <td>0.143545</td>\n",
       "      <td>0.165703</td>\n",
       "      <td>0.171002</td>\n",
       "      <td>0.127168</td>\n",
       "    </tr>\n",
       "    <tr>\n",
       "      <th>0</th>\n",
       "      <td>0.155990</td>\n",
       "      <td>0.133922</td>\n",
       "      <td>0.138852</td>\n",
       "      <td>0.135455</td>\n",
       "      <td>0.144754</td>\n",
       "      <td>0.137942</td>\n",
       "      <td>0.153084</td>\n",
       "    </tr>\n",
       "  </tbody>\n",
       "</table>\n",
       "</div>"
      ],
      "text/plain": [
       "weekday         0         1         2         3         4         5         6\n",
       "click                                                                        \n",
       "1        0.137765  0.124759  0.130058  0.143545  0.165703  0.171002  0.127168\n",
       "0        0.155990  0.133922  0.138852  0.135455  0.144754  0.137942  0.153084"
      ]
     },
     "execution_count": 36,
     "metadata": {},
     "output_type": "execute_result"
    }
   ],
   "source": [
    "ndf"
   ]
  },
  {
   "cell_type": "markdown",
   "metadata": {},
   "source": [
    "Ratio of non spam to spam"
   ]
  },
  {
   "cell_type": "code",
   "execution_count": 32,
   "metadata": {
    "collapsed": false
   },
   "outputs": [
    {
     "data": {
      "text/plain": [
       "0    2845726\n",
       "1       2076\n",
       "Name: click, dtype: int64"
      ]
     },
     "execution_count": 32,
     "metadata": {},
     "output_type": "execute_result"
    }
   ],
   "source": [
    "train['click'].value_counts()"
   ]
  },
  {
   "cell_type": "code",
   "execution_count": 34,
   "metadata": {
    "collapsed": false
   },
   "outputs": [
    {
     "data": {
      "text/plain": [
       "0.9992710167350117"
      ]
     },
     "execution_count": 34,
     "metadata": {},
     "output_type": "execute_result"
    }
   ],
   "source": [
    "2845726/(2845726+2076)"
   ]
  },
  {
   "cell_type": "markdown",
   "metadata": {},
   "source": [
    "Routine to create dummy prediction file"
   ]
  },
  {
   "cell_type": "code",
   "execution_count": 41,
   "metadata": {
    "collapsed": false
   },
   "outputs": [],
   "source": [
    "dummy_pred = pd.DataFrame({'Id':np.arange(1,545422),'Prediction':np.zeros(545421)})\n",
    "dummy_pred.to_csv('pred.csv',index=False)"
   ]
  }
 ],
 "metadata": {
  "kernelspec": {
   "display_name": "Python 3",
   "language": "python",
   "name": "python3"
  },
  "language_info": {
   "codemirror_mode": {
    "name": "ipython",
    "version": 3
   },
   "file_extension": ".py",
   "mimetype": "text/x-python",
   "name": "python",
   "nbconvert_exporter": "python",
   "pygments_lexer": "ipython3",
   "version": "3.5.1"
  }
 },
 "nbformat": 4,
 "nbformat_minor": 0
}
